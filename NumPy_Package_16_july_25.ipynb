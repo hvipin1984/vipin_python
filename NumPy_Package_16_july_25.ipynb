{
  "nbformat": 4,
  "nbformat_minor": 0,
  "metadata": {
    "colab": {
      "provenance": []
    },
    "kernelspec": {
      "name": "python3",
      "display_name": "Python 3"
    },
    "language_info": {
      "name": "python"
    }
  },
  "cells": [
    {
      "cell_type": "code",
      "execution_count": 1,
      "metadata": {
        "colab": {
          "base_uri": "https://localhost:8080/"
        },
        "id": "eDqtXmbn2N_N",
        "outputId": "1b2094a4-46bc-4144-c2d0-f11de3412260"
      },
      "outputs": [
        {
          "output_type": "stream",
          "name": "stdout",
          "text": [
            "[10 20 30 40]\n",
            "<class 'numpy.ndarray'>\n"
          ]
        }
      ],
      "source": [
        "import numpy as np # array creation, arry elements are seperated by white space\n",
        "\n",
        "arr = np.array([10,20,30,40])\n",
        "print(arr)\n",
        "print(type(arr))"
      ]
    },
    {
      "cell_type": "code",
      "source": [
        "l = [10,20,30]\n",
        "print(l)\n",
        "print(type(l)) # elemsta are sepearted by ,"
      ],
      "metadata": {
        "colab": {
          "base_uri": "https://localhost:8080/"
        },
        "id": "qx_qBwH2227K",
        "outputId": "f3567fe3-5f40-492e-c4a7-039f7ea02106"
      },
      "execution_count": 2,
      "outputs": [
        {
          "output_type": "stream",
          "name": "stdout",
          "text": [
            "[10, 20, 30]\n",
            "<class 'list'>\n"
          ]
        }
      ]
    },
    {
      "cell_type": "code",
      "source": [
        "arr = np.array([10, 1.1,20,30, \"BLR\"]) # if we try to create a array with dufferent datatype , it coverts the entire array to a higher data type array\n",
        "print(arr)"
      ],
      "metadata": {
        "colab": {
          "base_uri": "https://localhost:8080/"
        },
        "id": "UxweMlyv3mGx",
        "outputId": "b7a59163-5a01-41df-b0c0-f1816b1b09ab"
      },
      "execution_count": 3,
      "outputs": [
        {
          "output_type": "stream",
          "name": "stdout",
          "text": [
            "['10' '1.1' '20' '30' 'BLR']\n"
          ]
        }
      ]
    },
    {
      "cell_type": "code",
      "source": [
        "#Operations on Array\n",
        "\n",
        "a1 = np.array([10,20,30])\n",
        "print(a1)\n",
        "\n",
        "a2 = a1+2\n",
        "\n",
        "\n",
        "print(a2)"
      ],
      "metadata": {
        "colab": {
          "base_uri": "https://localhost:8080/"
        },
        "id": "5GFgIA_n40bt",
        "outputId": "755a2626-6931-4640-f288-d1a739eecf98"
      },
      "execution_count": 4,
      "outputs": [
        {
          "output_type": "stream",
          "name": "stdout",
          "text": [
            "[10 20 30]\n",
            "[12 22 32]\n"
          ]
        }
      ]
    },
    {
      "cell_type": "code",
      "source": [
        "#Operations on List\n",
        "\n",
        "a1 =[10,20,30]\n",
        "print(a1)\n",
        "a2 = a1*3\n",
        "print(a2)"
      ],
      "metadata": {
        "colab": {
          "base_uri": "https://localhost:8080/"
        },
        "id": "NzYR2l1V5S3Y",
        "outputId": "ec0e73a7-b486-4a9b-e634-3587469e21f3"
      },
      "execution_count": 5,
      "outputs": [
        {
          "output_type": "stream",
          "name": "stdout",
          "text": [
            "[10, 20, 30]\n",
            "[10, 20, 30, 10, 20, 30, 10, 20, 30]\n"
          ]
        }
      ]
    },
    {
      "cell_type": "code",
      "source": [
        "# memory consumption\n",
        "\n",
        "import sys\n",
        "\n",
        "l = [10,20,30]\n",
        "print(sys.getsizeof(l))\n",
        "\n",
        "a = np.array([10,20,30])\n",
        "print(a.itemsize)\n",
        "print(a.nbytes)"
      ],
      "metadata": {
        "colab": {
          "base_uri": "https://localhost:8080/"
        },
        "id": "g5OEyvcY6u4B",
        "outputId": "93f48d82-6d00-478f-f615-3880fc4b63a2"
      },
      "execution_count": 6,
      "outputs": [
        {
          "output_type": "stream",
          "name": "stdout",
          "text": [
            "88\n",
            "8\n",
            "24\n"
          ]
        }
      ]
    },
    {
      "cell_type": "code",
      "source": [
        "# creating ndarray\n",
        "\n",
        "a = np.array([10,20,30,40])\n",
        "\n",
        "print(a)\n",
        "print(type(a))\n",
        "print(a.ndim)"
      ],
      "metadata": {
        "colab": {
          "base_uri": "https://localhost:8080/"
        },
        "id": "1OWCfG6_7vfp",
        "outputId": "ec156cb8-131b-42a0-d6d4-aaabab1a0897"
      },
      "execution_count": 7,
      "outputs": [
        {
          "output_type": "stream",
          "name": "stdout",
          "text": [
            "[10 20 30 40]\n",
            "<class 'numpy.ndarray'>\n",
            "1\n"
          ]
        }
      ]
    },
    {
      "cell_type": "code",
      "source": [
        "#o dim array\n",
        "a= np.array(44)\n",
        "print(a)\n",
        "print(type(a))\n",
        "print(a.ndim)"
      ],
      "metadata": {
        "colab": {
          "base_uri": "https://localhost:8080/"
        },
        "id": "JLTBS51v8EaT",
        "outputId": "5815170b-9a7f-4e9a-9e12-2e0df203336d"
      },
      "execution_count": 8,
      "outputs": [
        {
          "output_type": "stream",
          "name": "stdout",
          "text": [
            "44\n",
            "<class 'numpy.ndarray'>\n",
            "0\n"
          ]
        }
      ]
    },
    {
      "cell_type": "code",
      "source": [
        "#2 dim array\n",
        "a= np.array([[10,20,30]])\n",
        "print(a)\n",
        "print(type(a))\n",
        "print(a.ndim)"
      ],
      "metadata": {
        "colab": {
          "base_uri": "https://localhost:8080/"
        },
        "id": "rRmOt1Xf8SCq",
        "outputId": "530cbc41-6c35-4f95-f154-50830838a04a"
      },
      "execution_count": 9,
      "outputs": [
        {
          "output_type": "stream",
          "name": "stdout",
          "text": [
            "[[10 20 30]]\n",
            "<class 'numpy.ndarray'>\n",
            "2\n"
          ]
        }
      ]
    },
    {
      "cell_type": "code",
      "source": [
        "#2 dim array\n",
        "a= np.array([[[10,20,30]]])\n",
        "print(a)\n",
        "print(type(a))\n",
        "print(a.ndim)"
      ],
      "metadata": {
        "colab": {
          "base_uri": "https://localhost:8080/"
        },
        "id": "W0hpqOS38gIX",
        "outputId": "64c513a9-7d97-4e6f-8b07-39ba512c868b"
      },
      "execution_count": 10,
      "outputs": [
        {
          "output_type": "stream",
          "name": "stdout",
          "text": [
            "[[[10 20 30]]]\n",
            "<class 'numpy.ndarray'>\n",
            "3\n"
          ]
        }
      ]
    },
    {
      "cell_type": "code",
      "source": [
        "#n dimm array\n",
        "\n",
        "n = int(input(\"enter the dim\"))\n",
        "\n",
        "a= np.array([10,20,30], ndmin=n)\n",
        "print(a)\n",
        "print(a.ndim)"
      ],
      "metadata": {
        "colab": {
          "base_uri": "https://localhost:8080/"
        },
        "id": "VQTbziPw8qPt",
        "outputId": "895cabba-9a1e-416f-cce1-02c75bd9d0ee"
      },
      "execution_count": 11,
      "outputs": [
        {
          "output_type": "stream",
          "name": "stdout",
          "text": [
            "enter the dim1\n",
            "[10 20 30]\n",
            "1\n"
          ]
        }
      ]
    },
    {
      "cell_type": "code",
      "source": [
        "a = np.array([[10,20,30],[40,50,60]])\n",
        "print(a)\n",
        "print(a.ndim)"
      ],
      "metadata": {
        "colab": {
          "base_uri": "https://localhost:8080/"
        },
        "id": "ZthhD06f9Qap",
        "outputId": "c7e9c605-bb33-457a-d278-55fe39cb598c"
      },
      "execution_count": 12,
      "outputs": [
        {
          "output_type": "stream",
          "name": "stdout",
          "text": [
            "[[10 20 30]\n",
            " [40 50 60]]\n",
            "2\n"
          ]
        }
      ]
    },
    {
      "cell_type": "code",
      "source": [
        "a = np.array([[10,20,30],[40,50,60]])\n",
        "\n",
        "print(a)\n",
        "\n",
        "print(a.shape)\n",
        "print(a.size)\n",
        "print(a.dtype)\n",
        "print(a.itemsize)\n",
        "print(a.nbytes)\n",
        "print(a.min())\n",
        "print(a.max())\n",
        "print(a.sum())\n",
        "\n",
        "print(a.sum(axis=0))\n",
        "print(a.sum(axis=1))\n",
        "\n",
        "print(a.mean())\n",
        "print(a.std())\n",
        "print(a.var())"
      ],
      "metadata": {
        "colab": {
          "base_uri": "https://localhost:8080/"
        },
        "id": "TIl6gA2d9mBJ",
        "outputId": "28cf841b-dba3-4906-f04c-552d4c0a2707"
      },
      "execution_count": 13,
      "outputs": [
        {
          "output_type": "stream",
          "name": "stdout",
          "text": [
            "[[10 20 30]\n",
            " [40 50 60]]\n",
            "(2, 3)\n",
            "6\n",
            "int64\n",
            "8\n",
            "48\n",
            "10\n",
            "60\n",
            "210\n",
            "[50 70 90]\n",
            "[ 60 150]\n",
            "35.0\n",
            "17.07825127659933\n",
            "291.6666666666667\n"
          ]
        }
      ]
    },
    {
      "cell_type": "code",
      "source": [
        "# create a nd array with all zeros\n",
        "\n",
        "a = np.zeros(4)\n",
        "print(a)\n",
        "print(a.dtype)\n",
        "print(a.ndim)\n",
        "print(a.shape)"
      ],
      "metadata": {
        "colab": {
          "base_uri": "https://localhost:8080/"
        },
        "id": "DWxQ5Vdh_eb7",
        "outputId": "3504405c-f668-4648-fca2-dd91ccd557ff"
      },
      "execution_count": 14,
      "outputs": [
        {
          "output_type": "stream",
          "name": "stdout",
          "text": [
            "[0. 0. 0. 0.]\n",
            "float64\n",
            "1\n",
            "(4,)\n"
          ]
        }
      ]
    },
    {
      "cell_type": "code",
      "source": [
        "# create a nd array with all zeros\n",
        "\n",
        "a = np.zeros((4,3), dtype='int')\n",
        "print(a)\n",
        "print(a.dtype)\n",
        "print(a.ndim)\n",
        "print(a.shape)"
      ],
      "metadata": {
        "colab": {
          "base_uri": "https://localhost:8080/"
        },
        "id": "fxOOLMit_6Qb",
        "outputId": "0c7f64c9-6f61-49e1-d7f1-713ffe524817"
      },
      "execution_count": 15,
      "outputs": [
        {
          "output_type": "stream",
          "name": "stdout",
          "text": [
            "[[0 0 0]\n",
            " [0 0 0]\n",
            " [0 0 0]\n",
            " [0 0 0]]\n",
            "int64\n",
            "2\n",
            "(4, 3)\n"
          ]
        }
      ]
    },
    {
      "cell_type": "code",
      "source": [
        "# create a nd array with all zeros\n",
        "\n",
        "a = np.ones((4,3), dtype='int')\n",
        "print(a)\n",
        "print(a.dtype)\n",
        "print(a.ndim)\n",
        "print(a.shape)"
      ],
      "metadata": {
        "colab": {
          "base_uri": "https://localhost:8080/"
        },
        "id": "U0mz68tfAPBF",
        "outputId": "e8e38d0f-1c50-4a65-fb92-898565b06b81"
      },
      "execution_count": 16,
      "outputs": [
        {
          "output_type": "stream",
          "name": "stdout",
          "text": [
            "[[1 1 1]\n",
            " [1 1 1]\n",
            " [1 1 1]\n",
            " [1 1 1]]\n",
            "int64\n",
            "2\n",
            "(4, 3)\n"
          ]
        }
      ]
    },
    {
      "cell_type": "code",
      "source": [
        "# create a nd array with all zeros\n",
        "\n",
        "a = np.ones((4,3), dtype='float') * 5\n",
        "print(a)\n",
        "print(a.dtype)\n",
        "print(a.ndim)\n",
        "print(a.shape)"
      ],
      "metadata": {
        "colab": {
          "base_uri": "https://localhost:8080/"
        },
        "id": "tQM8dd58AaJt",
        "outputId": "5babd047-3e5f-4bf9-f554-3ac05f908e20"
      },
      "execution_count": 30,
      "outputs": [
        {
          "output_type": "stream",
          "name": "stdout",
          "text": [
            "[[5. 5. 5.]\n",
            " [5. 5. 5.]\n",
            " [5. 5. 5.]\n",
            " [5. 5. 5.]]\n",
            "float64\n",
            "2\n",
            "(4, 3)\n"
          ]
        }
      ]
    },
    {
      "cell_type": "code",
      "source": [
        "#arange function\n",
        "a = np.arange(10)\n",
        "print(a)\n",
        "print(a.ndim)\n",
        "print(a.shape)"
      ],
      "metadata": {
        "colab": {
          "base_uri": "https://localhost:8080/"
        },
        "id": "iI9RpsZEBCa-",
        "outputId": "80775bc2-0205-4911-858f-b83313060e42"
      },
      "execution_count": 18,
      "outputs": [
        {
          "output_type": "stream",
          "name": "stdout",
          "text": [
            "[0 1 2 3 4 5 6 7 8 9]\n",
            "1\n",
            "(10,)\n"
          ]
        }
      ]
    },
    {
      "cell_type": "code",
      "source": [
        "#arange function\n",
        "a = np.arange(2,10,2,dtype = 'float')\n",
        "print(a)\n",
        "print(a.ndim)\n",
        "print(a.shape)"
      ],
      "metadata": {
        "colab": {
          "base_uri": "https://localhost:8080/"
        },
        "id": "5C3lW6yUBUcO",
        "outputId": "d12921f9-8b82-401e-890b-b5edaff4dce6"
      },
      "execution_count": 19,
      "outputs": [
        {
          "output_type": "stream",
          "name": "stdout",
          "text": [
            "[2. 4. 6. 8.]\n",
            "1\n",
            "(4,)\n"
          ]
        }
      ]
    },
    {
      "cell_type": "code",
      "source": [
        "\n",
        "#linspace- generate numbers in linear space\n",
        "\n",
        "a = np.linspace(1,2,5)\n",
        "print(a)"
      ],
      "metadata": {
        "colab": {
          "base_uri": "https://localhost:8080/"
        },
        "id": "tjGq6hEbB6_V",
        "outputId": "8a20d445-d461-4bb7-9569-a040ef558ede"
      },
      "execution_count": 20,
      "outputs": [
        {
          "output_type": "stream",
          "name": "stdout",
          "text": [
            "[1.   1.25 1.5  1.75 2.  ]\n"
          ]
        }
      ]
    },
    {
      "cell_type": "code",
      "metadata": {
        "colab": {
          "base_uri": "https://localhost:8080/"
        },
        "id": "98d71c7d",
        "outputId": "fd244b28-fcff-43a5-eb7b-be9e790f1e24"
      },
      "source": [
        "# Create a 1D array using linspace\n",
        "linear_space = np.linspace(1, 10, 12)  # Generates 12 numbers between 1 and 10\n",
        "\n",
        "# Reshape the 1D array into a 2D array (e.g., 3 rows and 4 columns)\n",
        "two_d_array = linear_space.reshape(3, 4)\n",
        "\n",
        "print(two_d_array)"
      ],
      "execution_count": 21,
      "outputs": [
        {
          "output_type": "stream",
          "name": "stdout",
          "text": [
            "[[ 1.          1.81818182  2.63636364  3.45454545]\n",
            " [ 4.27272727  5.09090909  5.90909091  6.72727273]\n",
            " [ 7.54545455  8.36363636  9.18181818 10.        ]]\n"
          ]
        }
      ]
    },
    {
      "cell_type": "code",
      "source": [
        "#Matrix\n",
        "\n",
        "mat = np.matrix([[1,2,3],[4,5,6]])\n",
        "print(mat)\n",
        "print(type(mat))"
      ],
      "metadata": {
        "colab": {
          "base_uri": "https://localhost:8080/"
        },
        "id": "ntzaYDnSDqCB",
        "outputId": "a800a0bf-0e80-4f19-d152-9fddb93d4b68"
      },
      "execution_count": 22,
      "outputs": [
        {
          "output_type": "stream",
          "name": "stdout",
          "text": [
            "[[1 2 3]\n",
            " [4 5 6]]\n",
            "<class 'numpy.matrix'>\n"
          ]
        }
      ]
    },
    {
      "cell_type": "code",
      "source": [
        "# transpose of a mtrix\n",
        "mat = np.matrix([[1,2,3],[4,5,6]])\n",
        "print(mat)\n",
        "\n",
        "trans = mat.T\n",
        "print(mat)\n",
        "print(trans)"
      ],
      "metadata": {
        "colab": {
          "base_uri": "https://localhost:8080/"
        },
        "id": "Pb1e01ULEGvs",
        "outputId": "ff31e28f-d88e-4806-bbed-47cb2974dbf3"
      },
      "execution_count": 23,
      "outputs": [
        {
          "output_type": "stream",
          "name": "stdout",
          "text": [
            "[[1 2 3]\n",
            " [4 5 6]]\n",
            "[[1 2 3]\n",
            " [4 5 6]]\n",
            "[[1 4]\n",
            " [2 5]\n",
            " [3 6]]\n"
          ]
        }
      ]
    },
    {
      "cell_type": "code",
      "source": [
        "# identity matrix\n",
        "\n",
        "mat = np.identity(3)\n",
        "print(mat)"
      ],
      "metadata": {
        "colab": {
          "base_uri": "https://localhost:8080/"
        },
        "id": "oZ6V_b7tEd9X",
        "outputId": "300e0f6e-34fc-4870-f8f5-2bf2a5f75793"
      },
      "execution_count": 24,
      "outputs": [
        {
          "output_type": "stream",
          "name": "stdout",
          "text": [
            "[[1. 0. 0.]\n",
            " [0. 1. 0.]\n",
            " [0. 0. 1.]]\n"
          ]
        }
      ]
    },
    {
      "cell_type": "code",
      "source": [
        "a = np.diag([10,20,30])\n",
        "print(a)"
      ],
      "metadata": {
        "colab": {
          "base_uri": "https://localhost:8080/"
        },
        "id": "TTreBzQhEt6x",
        "outputId": "5d28ae40-fd0f-4752-cf0e-16720aa10c5d"
      },
      "execution_count": 25,
      "outputs": [
        {
          "output_type": "stream",
          "name": "stdout",
          "text": [
            "[[10  0  0]\n",
            " [ 0 20  0]\n",
            " [ 0  0 30]]\n"
          ]
        }
      ]
    },
    {
      "cell_type": "code",
      "source": [
        "# random numbers\n",
        "\n",
        "a = np.random.random(10)\n",
        "print(a)"
      ],
      "metadata": {
        "colab": {
          "base_uri": "https://localhost:8080/"
        },
        "id": "f-hqx-xHE3kT",
        "outputId": "41ad6354-a932-46d9-8e17-75995de604ef"
      },
      "execution_count": 33,
      "outputs": [
        {
          "output_type": "stream",
          "name": "stdout",
          "text": [
            "[0.1483603  0.47505143 0.30712905 0.14488289 0.94801304 0.1565881\n",
            " 0.14946652 0.34233607 0.46777546 0.82222617]\n"
          ]
        }
      ]
    },
    {
      "cell_type": "code",
      "source": [
        "a = np.random.random((3,3,))\n",
        "print(a)"
      ],
      "metadata": {
        "colab": {
          "base_uri": "https://localhost:8080/"
        },
        "id": "EIObmyKgFg3P",
        "outputId": "59c81d43-0b16-4ce7-d2b7-90911d404787"
      },
      "execution_count": 27,
      "outputs": [
        {
          "output_type": "stream",
          "name": "stdout",
          "text": [
            "[[0.466162   0.1740732  0.08418313]\n",
            " [0.86588506 0.10361758 0.25217651]\n",
            " [0.13843529 0.05402752 0.85711045]]\n"
          ]
        }
      ]
    },
    {
      "cell_type": "code",
      "source": [
        "r = np.random.randint(11,150, size =5)\n",
        "print(r)"
      ],
      "metadata": {
        "colab": {
          "base_uri": "https://localhost:8080/"
        },
        "id": "MBAGRP8rFw64",
        "outputId": "76542e28-a74b-4041-d454-41c5e6040610"
      },
      "execution_count": 35,
      "outputs": [
        {
          "output_type": "stream",
          "name": "stdout",
          "text": [
            "[ 63 117  66  78 148]\n"
          ]
        }
      ]
    },
    {
      "cell_type": "code",
      "source": [
        "r = np.random.uniform(1,100, size=10)\n",
        "print(r)"
      ],
      "metadata": {
        "colab": {
          "base_uri": "https://localhost:8080/"
        },
        "id": "0bAtqXiQGIbm",
        "outputId": "23b92c64-6f75-4ee8-f612-f2c6474b1122"
      },
      "execution_count": 38,
      "outputs": [
        {
          "output_type": "stream",
          "name": "stdout",
          "text": [
            "[57.17402785 39.17372115 27.47422047 96.46902955 38.81836969 77.53785706\n",
            " 68.1748512   7.47136632 56.09657183 14.58310862]\n"
          ]
        }
      ]
    },
    {
      "cell_type": "code",
      "source": [
        "# choice\n",
        "\n",
        "k = np.random.choice([10,20,30,40],size=3)\n",
        "print(k)"
      ],
      "metadata": {
        "colab": {
          "base_uri": "https://localhost:8080/"
        },
        "id": "D4zcXMSOpsbs",
        "outputId": "f7ce033c-edd1-4b34-da94-8ad568c1e653"
      },
      "execution_count": 43,
      "outputs": [
        {
          "output_type": "stream",
          "name": "stdout",
          "text": [
            "[40 40 40]\n"
          ]
        }
      ]
    },
    {
      "cell_type": "code",
      "source": [
        "# choice fun- without duplicates, default value = True\n",
        "k = np.random.choice([10,20,30,40],size=3, replace = False)\n",
        "print(k)"
      ],
      "metadata": {
        "colab": {
          "base_uri": "https://localhost:8080/"
        },
        "id": "iaDgkReCqMTh",
        "outputId": "f6325587-3499-409a-fa22-e5607f01ce53"
      },
      "execution_count": 48,
      "outputs": [
        {
          "output_type": "stream",
          "name": "stdout",
          "text": [
            "[30 10 20]\n"
          ]
        }
      ]
    },
    {
      "cell_type": "code",
      "source": [
        "a = np.array([22,33,44])\n",
        "prob= np.array([.5,.4,.1]) # the sum must be equal to 1(100%)\n",
        "\n",
        "k= np.random.choice(a, p=prob, size=10)\n",
        "print(k)"
      ],
      "metadata": {
        "colab": {
          "base_uri": "https://localhost:8080/"
        },
        "id": "mckak_rjq33M",
        "outputId": "e627a3e2-b35c-43e2-f7bd-6e33f41295d0"
      },
      "execution_count": 53,
      "outputs": [
        {
          "output_type": "stream",
          "name": "stdout",
          "text": [
            "[33 22 22 33 22 22 33 22 33 44]\n"
          ]
        }
      ]
    },
    {
      "cell_type": "code",
      "source": [
        "# choosing random rows\n",
        "\n",
        "arr_2d = np.arange(0,20).reshape(4,5)\n",
        "print(arr_2d)\n",
        "\n",
        "rowno = arr_2d.shape[0]\n",
        "print(rowno)\n",
        "\n",
        "random_rowindex = np.random.choice(rowno , size= 2, replace= False)\n",
        "\n",
        "print(random_rowindex)\n",
        "\n",
        "final_output = arr_2d[random_rowindex]\n",
        "\n",
        "print(final_output)"
      ],
      "metadata": {
        "colab": {
          "base_uri": "https://localhost:8080/"
        },
        "id": "P_c27NCPsdUC",
        "outputId": "bd4e25d1-08e3-4623-9410-fd8e93f51fc9"
      },
      "execution_count": 61,
      "outputs": [
        {
          "output_type": "stream",
          "name": "stdout",
          "text": [
            "[[ 0  1  2  3  4]\n",
            " [ 5  6  7  8  9]\n",
            " [10 11 12 13 14]\n",
            " [15 16 17 18 19]]\n",
            "4\n",
            "[0 1]\n",
            "[[0 1 2 3 4]\n",
            " [5 6 7 8 9]]\n"
          ]
        }
      ]
    },
    {
      "cell_type": "code",
      "source": [
        "# choosing random cols\n",
        "\n",
        "arr_2d = np.arange(0,20).reshape(4,5)\n",
        "print(arr_2d)\n",
        "\n",
        "colno = arr_2d.shape[1]\n",
        "print(colno)\n",
        "\n",
        "random_colindex = np.random.choice(colno , size= 2, replace= False)\n",
        "\n",
        "print(random_colindex)\n",
        "\n",
        "final_output = arr_2d[:,random_colindex]\n",
        "\n",
        "print(final_output)"
      ],
      "metadata": {
        "colab": {
          "base_uri": "https://localhost:8080/"
        },
        "id": "TfPk7coivbts",
        "outputId": "c6bdf443-08de-4f02-a44b-50843e526080"
      },
      "execution_count": 64,
      "outputs": [
        {
          "output_type": "stream",
          "name": "stdout",
          "text": [
            "[[ 0  1  2  3  4]\n",
            " [ 5  6  7  8  9]\n",
            " [10 11 12 13 14]\n",
            " [15 16 17 18 19]]\n",
            "5\n",
            "[3 4]\n",
            "[[ 3  4]\n",
            " [ 8  9]\n",
            " [13 14]\n",
            " [18 19]]\n"
          ]
        }
      ]
    },
    {
      "cell_type": "code",
      "source": [
        "# shuffling the array\n",
        "\n",
        "a= np.arange(10)\n",
        "print(a)\n",
        "np.random.shuffle(a)\n",
        "print(a)"
      ],
      "metadata": {
        "colab": {
          "base_uri": "https://localhost:8080/"
        },
        "id": "g4doZHA_wLHE",
        "outputId": "e04ae8dd-0b70-4691-82ee-04dbe262c5b0"
      },
      "execution_count": 71,
      "outputs": [
        {
          "output_type": "stream",
          "name": "stdout",
          "text": [
            "[0 1 2 3 4 5 6 7 8 9]\n",
            "[9 4 3 0 8 7 1 2 5 6]\n"
          ]
        }
      ]
    },
    {
      "cell_type": "code",
      "source": [
        "# permutation\n",
        "\n",
        "a = np.random.permutation(10)\n",
        "print(a)"
      ],
      "metadata": {
        "colab": {
          "base_uri": "https://localhost:8080/"
        },
        "id": "_oWIKzOSw-WN",
        "outputId": "60e3d992-8207-4029-e2d1-7fde0255daaa"
      },
      "execution_count": 75,
      "outputs": [
        {
          "output_type": "stream",
          "name": "stdout",
          "text": [
            "[5 2 8 0 9 1 3 6 4 7]\n"
          ]
        }
      ]
    },
    {
      "cell_type": "code",
      "source": [
        "# permutation 2d array\n",
        "\n",
        "array_2d = np.arange(0,20).reshape(4,5)\n",
        "print(array_2d)\n",
        "\n",
        "a=np.random.permutation(array_2d)\n",
        "print(a)\n",
        "print(array_2d)"
      ],
      "metadata": {
        "colab": {
          "base_uri": "https://localhost:8080/"
        },
        "id": "ym_79z2DxRL0",
        "outputId": "f5edaed4-89a5-4658-af09-824ac0d2183d"
      },
      "execution_count": 77,
      "outputs": [
        {
          "output_type": "stream",
          "name": "stdout",
          "text": [
            "[[ 0  1  2  3  4]\n",
            " [ 5  6  7  8  9]\n",
            " [10 11 12 13 14]\n",
            " [15 16 17 18 19]]\n",
            "[[ 5  6  7  8  9]\n",
            " [15 16 17 18 19]\n",
            " [10 11 12 13 14]\n",
            " [ 0  1  2  3  4]]\n",
            "[[ 0  1  2  3  4]\n",
            " [ 5  6  7  8  9]\n",
            " [10 11 12 13 14]\n",
            " [15 16 17 18 19]]\n"
          ]
        }
      ]
    },
    {
      "cell_type": "code",
      "source": [
        "# row shuffling\n",
        "array_2d = np.arange(0,20).reshape(4,5)\n",
        "print(array_2d)\n",
        "\n",
        "num_rows = array_2d.shape[0]\n",
        "\n",
        "shuffled_index = np.random.permutation(num_rows)\n",
        "\n",
        "shuffled_array = array_2d[shuffled_index]\n",
        "\n",
        "print(shuffled_array)"
      ],
      "metadata": {
        "colab": {
          "base_uri": "https://localhost:8080/"
        },
        "id": "tHgGcEjfy0ON",
        "outputId": "334e0746-05ba-42dd-ef7d-2fb86598e1e6"
      },
      "execution_count": 83,
      "outputs": [
        {
          "output_type": "stream",
          "name": "stdout",
          "text": [
            "[[ 0  1  2  3  4]\n",
            " [ 5  6  7  8  9]\n",
            " [10 11 12 13 14]\n",
            " [15 16 17 18 19]]\n",
            "[[ 5  6  7  8  9]\n",
            " [10 11 12 13 14]\n",
            " [15 16 17 18 19]\n",
            " [ 0  1  2  3  4]]\n"
          ]
        }
      ]
    },
    {
      "cell_type": "code",
      "source": [
        "# column shuffling\n",
        "array_2d = np.arange(0,20).reshape(4,5)\n",
        "print(array_2d)\n",
        "\n",
        "num_rows = array_2d.shape[1]\n",
        "\n",
        "shuffled_index = np.random.permutation(num_rows)\n",
        "\n",
        "shuffled_array = array_2d[:,shuffled_index]\n",
        "\n",
        "print(shuffled_array)"
      ],
      "metadata": {
        "colab": {
          "base_uri": "https://localhost:8080/"
        },
        "id": "-CXF26mvzsD8",
        "outputId": "147261de-2be0-4c3d-ddd8-e146e9d775ef"
      },
      "execution_count": 89,
      "outputs": [
        {
          "output_type": "stream",
          "name": "stdout",
          "text": [
            "[[ 0  1  2  3  4]\n",
            " [ 5  6  7  8  9]\n",
            " [10 11 12 13 14]\n",
            " [15 16 17 18 19]]\n",
            "[[ 2  4  0  3  1]\n",
            " [ 7  9  5  8  6]\n",
            " [12 14 10 13 11]\n",
            " [17 19 15 18 16]]\n"
          ]
        }
      ]
    },
    {
      "cell_type": "code",
      "source": [
        "# Grouping and Splitting\n",
        "\n",
        "array_1d = np.arange(10)\n",
        "print(array_1d)\n",
        "\n",
        "array_2d_0 = np.arange(0,18).reshape(3,6)\n",
        "print(array_2d_0)\n",
        "\n",
        "array_2d_1 = np.arange(18,36).reshape(3,6)\n",
        "print(array_2d_1)"
      ],
      "metadata": {
        "colab": {
          "base_uri": "https://localhost:8080/"
        },
        "id": "CkILXWtH0DrK",
        "outputId": "6573b9a8-33cd-4f62-8905-82bc3d67a93f"
      },
      "execution_count": 90,
      "outputs": [
        {
          "output_type": "stream",
          "name": "stdout",
          "text": [
            "[0 1 2 3 4 5 6 7 8 9]\n",
            "[[ 0  1  2  3  4  5]\n",
            " [ 6  7  8  9 10 11]\n",
            " [12 13 14 15 16 17]]\n",
            "[[18 19 20 21 22 23]\n",
            " [24 25 26 27 28 29]\n",
            " [30 31 32 33 34 35]]\n"
          ]
        }
      ]
    },
    {
      "cell_type": "code",
      "source": [
        "# concatenate row wise  axis=0 ---- row oriented\n",
        "a = np.concatenate([array_2d_0, array_2d_1], axis=0)\n",
        "print(a)"
      ],
      "metadata": {
        "colab": {
          "base_uri": "https://localhost:8080/"
        },
        "id": "hj_rLbeS0wkn",
        "outputId": "31fc3dea-5e9f-44a8-8922-e631be891977"
      },
      "execution_count": 93,
      "outputs": [
        {
          "output_type": "stream",
          "name": "stdout",
          "text": [
            "[[ 0  1  2  3  4  5]\n",
            " [ 6  7  8  9 10 11]\n",
            " [12 13 14 15 16 17]\n",
            " [18 19 20 21 22 23]\n",
            " [24 25 26 27 28 29]\n",
            " [30 31 32 33 34 35]]\n"
          ]
        }
      ]
    },
    {
      "cell_type": "code",
      "source": [],
      "metadata": {
        "id": "vecGBv-V1vw5"
      },
      "execution_count": null,
      "outputs": []
    },
    {
      "cell_type": "code",
      "source": [
        "# concatenate row wise   axis =1 ----- col oriented\n",
        "a = np.concatenate([array_2d_0, array_2d_1], axis=1)\n",
        "print(a)"
      ],
      "metadata": {
        "colab": {
          "base_uri": "https://localhost:8080/"
        },
        "id": "31GWcodD1Wsf",
        "outputId": "3a7a6dfe-1768-4af6-c553-deff4c8307eb"
      },
      "execution_count": 92,
      "outputs": [
        {
          "output_type": "stream",
          "name": "stdout",
          "text": [
            "[[ 0  1  2  3  4  5 18 19 20 21 22 23]\n",
            " [ 6  7  8  9 10 11 24 25 26 27 28 29]\n",
            " [12 13 14 15 16 17 30 31 32 33 34 35]]\n"
          ]
        }
      ]
    },
    {
      "cell_type": "code",
      "source": [
        "# np stack\n",
        "\n",
        "a1 = np.array([1,2,3])\n",
        "a2 = np.array([4,5,6])\n",
        "\n",
        "#print(np.stack([a1,a2]))\n",
        "\n",
        "print(np.stack([a1,a2], axis =1))"
      ],
      "metadata": {
        "colab": {
          "base_uri": "https://localhost:8080/"
        },
        "id": "WXIWQnpB1xbs",
        "outputId": "d142a607-f8e3-4aba-da44-5e3b880b41bc"
      },
      "execution_count": 97,
      "outputs": [
        {
          "output_type": "stream",
          "name": "stdout",
          "text": [
            "[[1 4]\n",
            " [2 5]\n",
            " [3 6]]\n"
          ]
        }
      ]
    },
    {
      "cell_type": "code",
      "source": [
        "print(array_2d_0)\n",
        "\n",
        "print(array_2d_1)"
      ],
      "metadata": {
        "colab": {
          "base_uri": "https://localhost:8080/"
        },
        "id": "MgQ-BubQ25mA",
        "outputId": "33a5acb7-1dbe-4451-9caa-f8c24ddf3941"
      },
      "execution_count": 98,
      "outputs": [
        {
          "output_type": "stream",
          "name": "stdout",
          "text": [
            "[[ 0  1  2  3  4  5]\n",
            " [ 6  7  8  9 10 11]\n",
            " [12 13 14 15 16 17]]\n",
            "[[18 19 20 21 22 23]\n",
            " [24 25 26 27 28 29]\n",
            " [30 31 32 33 34 35]]\n"
          ]
        }
      ]
    },
    {
      "cell_type": "code",
      "source": [
        "\n",
        "array_stacked = np.stack([array_2d_0,array_2d_1], axis =1)\n",
        "print(array_stacked)\n",
        "print( array_stacked.shape)"
      ],
      "metadata": {
        "colab": {
          "base_uri": "https://localhost:8080/"
        },
        "id": "nYjVs5U52d4G",
        "outputId": "b450fd7b-e098-49ae-9b5b-06e3ee6d6ad0"
      },
      "execution_count": 103,
      "outputs": [
        {
          "output_type": "stream",
          "name": "stdout",
          "text": [
            "[[[ 0  1  2  3  4  5]\n",
            "  [18 19 20 21 22 23]]\n",
            "\n",
            " [[ 6  7  8  9 10 11]\n",
            "  [24 25 26 27 28 29]]\n",
            "\n",
            " [[12 13 14 15 16 17]\n",
            "  [30 31 32 33 34 35]]]\n",
            "(3, 2, 6)\n"
          ]
        }
      ]
    },
    {
      "cell_type": "code",
      "source": [
        "array_stacked = np.stack([array_2d_0,array_2d_1], axis =0)\n",
        "print(array_stacked)\n",
        "print( array_stacked.shape)"
      ],
      "metadata": {
        "colab": {
          "base_uri": "https://localhost:8080/"
        },
        "id": "pk55diUb1wex",
        "outputId": "b3acced7-c9fb-49de-e768-6eec914ae9a4"
      },
      "execution_count": 104,
      "outputs": [
        {
          "output_type": "stream",
          "name": "stdout",
          "text": [
            "[[[ 0  1  2  3  4  5]\n",
            "  [ 6  7  8  9 10 11]\n",
            "  [12 13 14 15 16 17]]\n",
            "\n",
            " [[18 19 20 21 22 23]\n",
            "  [24 25 26 27 28 29]\n",
            "  [30 31 32 33 34 35]]]\n",
            "(2, 3, 6)\n"
          ]
        }
      ]
    },
    {
      "cell_type": "code",
      "source": [
        "array_stacked = np.stack([array_2d_0,array_2d_1], axis =-1)\n",
        "print(array_stacked)\n",
        "print( array_stacked.shape)"
      ],
      "metadata": {
        "colab": {
          "base_uri": "https://localhost:8080/"
        },
        "id": "X6kVcpKm20-Y",
        "outputId": "92e25520-d100-49d6-dc1c-1074242ae1a7"
      },
      "execution_count": 106,
      "outputs": [
        {
          "output_type": "stream",
          "name": "stdout",
          "text": [
            "[[[ 0 18]\n",
            "  [ 1 19]\n",
            "  [ 2 20]\n",
            "  [ 3 21]\n",
            "  [ 4 22]\n",
            "  [ 5 23]]\n",
            "\n",
            " [[ 6 24]\n",
            "  [ 7 25]\n",
            "  [ 8 26]\n",
            "  [ 9 27]\n",
            "  [10 28]\n",
            "  [11 29]]\n",
            "\n",
            " [[12 30]\n",
            "  [13 31]\n",
            "  [14 32]\n",
            "  [15 33]\n",
            "  [16 34]\n",
            "  [17 35]]]\n",
            "(3, 6, 2)\n"
          ]
        }
      ]
    },
    {
      "cell_type": "code",
      "source": [
        "# vstack\n",
        "\n",
        "np.vstack([array_2d_0,array_2d_1])   # np.concatenate axis = 0"
      ],
      "metadata": {
        "colab": {
          "base_uri": "https://localhost:8080/"
        },
        "id": "lkqFwAWT4sP6",
        "outputId": "e4ce9ea9-533a-49d1-a79f-9f2cc2f0ac98"
      },
      "execution_count": 107,
      "outputs": [
        {
          "output_type": "execute_result",
          "data": {
            "text/plain": [
              "array([[ 0,  1,  2,  3,  4,  5],\n",
              "       [ 6,  7,  8,  9, 10, 11],\n",
              "       [12, 13, 14, 15, 16, 17],\n",
              "       [18, 19, 20, 21, 22, 23],\n",
              "       [24, 25, 26, 27, 28, 29],\n",
              "       [30, 31, 32, 33, 34, 35]])"
            ]
          },
          "metadata": {},
          "execution_count": 107
        }
      ]
    },
    {
      "cell_type": "code",
      "source": [],
      "metadata": {
        "id": "O1iiMn685Ljn"
      },
      "execution_count": null,
      "outputs": []
    },
    {
      "cell_type": "code",
      "source": [
        "#hstack\n",
        "np.hstack([array_2d_0,array_2d_1])  # np.concatenate axiz = 1"
      ],
      "metadata": {
        "colab": {
          "base_uri": "https://localhost:8080/"
        },
        "id": "O1nDT78B46Gp",
        "outputId": "58a3498c-d2c8-40b1-f30a-d2918674aad6"
      },
      "execution_count": 108,
      "outputs": [
        {
          "output_type": "execute_result",
          "data": {
            "text/plain": [
              "array([[ 0,  1,  2,  3,  4,  5, 18, 19, 20, 21, 22, 23],\n",
              "       [ 6,  7,  8,  9, 10, 11, 24, 25, 26, 27, 28, 29],\n",
              "       [12, 13, 14, 15, 16, 17, 30, 31, 32, 33, 34, 35]])"
            ]
          },
          "metadata": {},
          "execution_count": 108
        }
      ]
    },
    {
      "cell_type": "code",
      "source": [
        "# np.split\n",
        "print(array_1d)\n",
        "k = np.split(array_1d , indices_or_sections=5)\n",
        "print(k)\n",
        "print(k[3])"
      ],
      "metadata": {
        "colab": {
          "base_uri": "https://localhost:8080/"
        },
        "id": "g9LFPzrB5MUC",
        "outputId": "3f5fd177-bb3c-4bcd-b74c-a85c63b324d0"
      },
      "execution_count": 114,
      "outputs": [
        {
          "output_type": "stream",
          "name": "stdout",
          "text": [
            "[0 1 2 3 4 5 6 7 8 9]\n",
            "[array([0, 1]), array([2, 3]), array([4, 5]), array([6, 7]), array([8, 9])]\n",
            "[6 7]\n"
          ]
        }
      ]
    },
    {
      "cell_type": "code",
      "source": [
        "# split 2d arrays\n",
        "print(array_2d_0)\n",
        "\n",
        "np.split(array_2d_0 , indices_or_sections=3, axis =1)"
      ],
      "metadata": {
        "colab": {
          "base_uri": "https://localhost:8080/"
        },
        "id": "5VIRjdsw58sP",
        "outputId": "285f08a4-b01d-41f6-ea54-a2fceaf2059e"
      },
      "execution_count": 115,
      "outputs": [
        {
          "output_type": "stream",
          "name": "stdout",
          "text": [
            "[[ 0  1  2  3  4  5]\n",
            " [ 6  7  8  9 10 11]\n",
            " [12 13 14 15 16 17]]\n"
          ]
        },
        {
          "output_type": "execute_result",
          "data": {
            "text/plain": [
              "[array([[ 0,  1],\n",
              "        [ 6,  7],\n",
              "        [12, 13]]),\n",
              " array([[ 2,  3],\n",
              "        [ 8,  9],\n",
              "        [14, 15]]),\n",
              " array([[ 4,  5],\n",
              "        [10, 11],\n",
              "        [16, 17]])]"
            ]
          },
          "metadata": {},
          "execution_count": 115
        }
      ]
    },
    {
      "cell_type": "code",
      "source": [
        "# addinh axis ==== expanding the dimensions\n",
        "\n",
        "print(array_2d_0)\n",
        "print(array_2d_0.shape)\n",
        "print(array_2d_0.ndim)"
      ],
      "metadata": {
        "colab": {
          "base_uri": "https://localhost:8080/"
        },
        "id": "NqZEpHa96W8P",
        "outputId": "8c5b2c26-ff86-4588-d94f-254d7f680426"
      },
      "execution_count": 116,
      "outputs": [
        {
          "output_type": "stream",
          "name": "stdout",
          "text": [
            "[[ 0  1  2  3  4  5]\n",
            " [ 6  7  8  9 10 11]\n",
            " [12 13 14 15 16 17]]\n",
            "(3, 6)\n",
            "2\n"
          ]
        }
      ]
    },
    {
      "cell_type": "code",
      "source": [
        "new_array = np.expand_dims(array_2d_0 , axis=0)\n",
        "print(new_array)\n",
        "print(new_array.shape)\n",
        "print(new_array.ndim)"
      ],
      "metadata": {
        "colab": {
          "base_uri": "https://localhost:8080/"
        },
        "id": "6mg7Z8wU6rRW",
        "outputId": "467e8e70-2080-4632-d120-d78e9e3beb0d"
      },
      "execution_count": 117,
      "outputs": [
        {
          "output_type": "stream",
          "name": "stdout",
          "text": [
            "[[[ 0  1  2  3  4  5]\n",
            "  [ 6  7  8  9 10 11]\n",
            "  [12 13 14 15 16 17]]]\n",
            "(1, 3, 6)\n",
            "3\n"
          ]
        }
      ]
    },
    {
      "cell_type": "code",
      "source": [
        "k = np.squeeze(new_array)\n",
        "print(k)\n",
        "print(k.shape)\n",
        "print(k.ndim)"
      ],
      "metadata": {
        "colab": {
          "base_uri": "https://localhost:8080/"
        },
        "id": "3EDVPWwZ7LSj",
        "outputId": "14951f3c-8cc5-4e83-cc5f-0e9b574d73b0"
      },
      "execution_count": 118,
      "outputs": [
        {
          "output_type": "stream",
          "name": "stdout",
          "text": [
            "[[ 0  1  2  3  4  5]\n",
            " [ 6  7  8  9 10 11]\n",
            " [12 13 14 15 16 17]]\n",
            "(3, 6)\n",
            "2\n"
          ]
        }
      ]
    },
    {
      "cell_type": "code",
      "source": [
        "# reorderinhg\n",
        "\n",
        "# flip\n",
        "\n",
        "print(array_1d)\n",
        "np.flip(array_1d)     # array_1d[::-1]"
      ],
      "metadata": {
        "colab": {
          "base_uri": "https://localhost:8080/"
        },
        "id": "GKxPQnfU7azF",
        "outputId": "fbfefad4-f2ef-4df9-884a-6f2178585582"
      },
      "execution_count": 119,
      "outputs": [
        {
          "output_type": "stream",
          "name": "stdout",
          "text": [
            "[0 1 2 3 4 5 6 7 8 9]\n"
          ]
        },
        {
          "output_type": "execute_result",
          "data": {
            "text/plain": [
              "array([9, 8, 7, 6, 5, 4, 3, 2, 1, 0])"
            ]
          },
          "metadata": {},
          "execution_count": 119
        }
      ]
    },
    {
      "cell_type": "code",
      "source": [
        "# flip 2d array\n",
        "print(array_2d_0)\n",
        "np.flip(array_2d_0, axis =0)"
      ],
      "metadata": {
        "colab": {
          "base_uri": "https://localhost:8080/"
        },
        "id": "mtB8IZJl70_G",
        "outputId": "cb39ead2-9be6-4b54-a061-4460639fa3fe"
      },
      "execution_count": 121,
      "outputs": [
        {
          "output_type": "stream",
          "name": "stdout",
          "text": [
            "[[ 0  1  2  3  4  5]\n",
            " [ 6  7  8  9 10 11]\n",
            " [12 13 14 15 16 17]]\n"
          ]
        },
        {
          "output_type": "execute_result",
          "data": {
            "text/plain": [
              "array([[12, 13, 14, 15, 16, 17],\n",
              "       [ 6,  7,  8,  9, 10, 11],\n",
              "       [ 0,  1,  2,  3,  4,  5]])"
            ]
          },
          "metadata": {},
          "execution_count": 121
        }
      ]
    },
    {
      "cell_type": "code",
      "source": [
        "# flip 2d array\n",
        "print(array_2d_0)\n",
        "np.flip(array_2d_0, axis =1)"
      ],
      "metadata": {
        "colab": {
          "base_uri": "https://localhost:8080/"
        },
        "id": "NIfYDgbd8FzA",
        "outputId": "691575bd-2ace-4b3e-9d15-a62c34cd3471"
      },
      "execution_count": 122,
      "outputs": [
        {
          "output_type": "stream",
          "name": "stdout",
          "text": [
            "[[ 0  1  2  3  4  5]\n",
            " [ 6  7  8  9 10 11]\n",
            " [12 13 14 15 16 17]]\n"
          ]
        },
        {
          "output_type": "execute_result",
          "data": {
            "text/plain": [
              "array([[ 5,  4,  3,  2,  1,  0],\n",
              "       [11, 10,  9,  8,  7,  6],\n",
              "       [17, 16, 15, 14, 13, 12]])"
            ]
          },
          "metadata": {},
          "execution_count": 122
        }
      ]
    },
    {
      "cell_type": "code",
      "source": [
        "#resize\n",
        "\n",
        "print(array_2d_0)\n",
        "\n",
        "np.resize(array_2d_0 , new_shape =11)\n",
        "\n"
      ],
      "metadata": {
        "colab": {
          "base_uri": "https://localhost:8080/"
        },
        "id": "v2SWa79J8OOH",
        "outputId": "8b1a5004-9f70-462e-c2a4-235ad9f2e7fc"
      },
      "execution_count": 123,
      "outputs": [
        {
          "output_type": "stream",
          "name": "stdout",
          "text": [
            "[[ 0  1  2  3  4  5]\n",
            " [ 6  7  8  9 10 11]\n",
            " [12 13 14 15 16 17]]\n"
          ]
        },
        {
          "output_type": "execute_result",
          "data": {
            "text/plain": [
              "array([ 0,  1,  2,  3,  4,  5,  6,  7,  8,  9, 10])"
            ]
          },
          "metadata": {},
          "execution_count": 123
        }
      ]
    },
    {
      "cell_type": "code",
      "source": [
        "np.resize(array_2d_0 , new_shape =(4,2))"
      ],
      "metadata": {
        "colab": {
          "base_uri": "https://localhost:8080/"
        },
        "id": "6t1-YzoN8upX",
        "outputId": "38f7df8f-ba38-4a05-d5bd-79d82a08cdf8"
      },
      "execution_count": 124,
      "outputs": [
        {
          "output_type": "execute_result",
          "data": {
            "text/plain": [
              "array([[0, 1],\n",
              "       [2, 3],\n",
              "       [4, 5],\n",
              "       [6, 7]])"
            ]
          },
          "metadata": {},
          "execution_count": 124
        }
      ]
    },
    {
      "cell_type": "code",
      "source": [
        "np.resize(array_2d_0 , new_shape =(2,5,3))"
      ],
      "metadata": {
        "colab": {
          "base_uri": "https://localhost:8080/"
        },
        "id": "D9lePjoX83gc",
        "outputId": "1abd4fab-030c-4f7d-804a-6f5d1984263c"
      },
      "execution_count": 125,
      "outputs": [
        {
          "output_type": "execute_result",
          "data": {
            "text/plain": [
              "array([[[ 0,  1,  2],\n",
              "        [ 3,  4,  5],\n",
              "        [ 6,  7,  8],\n",
              "        [ 9, 10, 11],\n",
              "        [12, 13, 14]],\n",
              "\n",
              "       [[15, 16, 17],\n",
              "        [ 0,  1,  2],\n",
              "        [ 3,  4,  5],\n",
              "        [ 6,  7,  8],\n",
              "        [ 9, 10, 11]]])"
            ]
          },
          "metadata": {},
          "execution_count": 125
        }
      ]
    }
  ]
}