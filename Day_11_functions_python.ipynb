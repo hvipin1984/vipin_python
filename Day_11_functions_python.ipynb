{
  "nbformat": 4,
  "nbformat_minor": 0,
  "metadata": {
    "colab": {
      "provenance": []
    },
    "kernelspec": {
      "name": "python3",
      "display_name": "Python 3"
    },
    "language_info": {
      "name": "python"
    }
  },
  "cells": [
    {
      "cell_type": "code",
      "execution_count": null,
      "metadata": {
        "id": "LynczderHEfx"
      },
      "outputs": [],
      "source": [
        "print(\"Hello World\")"
      ]
    },
    {
      "cell_type": "code",
      "source": [
        "# class varibale inheritance\n",
        "\n",
        "# Parent class with a class variable\n",
        "class Parent:\n",
        "  parent_class_variable = \"I am a parent class variable\"\n",
        "\n",
        "  def __init__(self, name):\n",
        "    self.name = name\n",
        "\n",
        "  def display_parent_variable(self):\n",
        "    print(f\"From Parent instance {self.name}: {Parent.parent_class_variable}\")\n",
        "\n",
        "# Child class inheriting from Parent\n",
        "class Child(Parent):\n",
        "  child_class_variable = \"I am a child class variable\"\n",
        "\n",
        "  def __init__(self, name, age):\n",
        "    super().__init__(name) # Initialize the parent class\n",
        "    self.age = age\n",
        "\n",
        "  def display_variables(self):\n",
        "    print(f\"From Child instance {self.name}:\")\n",
        "    print(f\"  Parent class variable: {self.parent_class_variable}\") # Accessing inherited class variable\n",
        "    print(f\"  Child class variable: {self.child_class_variable}\") # Accessing child class variable\n",
        "\n",
        "# Create an instance of the Child class\n",
        "child_instance = Child(\"Alice\", 10)\n",
        "\n",
        "# Access and display the inherited class variable\n",
        "print(\"Accessing class variables:\")\n",
        "print(f\"From Parent class: {Parent.parent_class_variable}\")\n",
        "print(f\"From Child class (accessing inherited): {Child.parent_class_variable}\")\n",
        "print(f\"From Child instance (accessing inherited): {child_instance.parent_class_variable}\")\n",
        "print(f\"From Child class: {Child.child_class_variable}\")\n",
        "\n",
        "# Use the method to display the variables\n",
        "child_instance.display_variables()\n",
        "\n",
        "# Create a Parent instance to show the difference\n",
        "parent_instance = Parent(\"Bob\")\n",
        "parent_instance.display_parent_variable()\n",
        "# print(parent_instance.child_class_variable) # This would cause an error\n",
        ""
      ],
      "metadata": {
        "id": "iBNMoPbsub4c"
      },
      "execution_count": null,
      "outputs": []
    },
    {
      "cell_type": "code",
      "source": [
        "%cd sample_data\n"
      ],
      "metadata": {
        "colab": {
          "base_uri": "https://localhost:8080/"
        },
        "id": "TX3G3gdbxG1C",
        "outputId": "779fb809-8a7b-41c8-ff17-f109d686a6fd"
      },
      "execution_count": 6,
      "outputs": [
        {
          "output_type": "stream",
          "name": "stdout",
          "text": [
            "[Errno 2] No such file or directory: 'sample_data/my_project'\n",
            "/content/sample_data\n"
          ]
        }
      ]
    },
    {
      "cell_type": "code",
      "source": [
        "%cd my_project/"
      ],
      "metadata": {
        "id": "2O7yt0tl0S1n",
        "outputId": "66c329c5-1939-499e-8085-e4088e368fdd",
        "colab": {
          "base_uri": "https://localhost:8080/"
        }
      },
      "execution_count": 7,
      "outputs": [
        {
          "output_type": "stream",
          "name": "stdout",
          "text": [
            "/content/sample_data/my_project\n"
          ]
        }
      ]
    },
    {
      "cell_type": "code",
      "source": [
        "%run main.py"
      ],
      "metadata": {
        "id": "RslOK4PC0XPy",
        "outputId": "aeeacec0-401f-4c20-aa6e-456dc1ee90ea",
        "colab": {
          "base_uri": "https://localhost:8080/"
        }
      },
      "execution_count": 8,
      "outputs": [
        {
          "output_type": "stream",
          "name": "stdout",
          "text": [
            "Inside my_package\n"
          ]
        }
      ]
    },
    {
      "cell_type": "code",
      "source": [
        "class Human():\n",
        "\n",
        "  def __init__(self,par1,par2):\n",
        "    print(\"Human class constructor\")\n",
        "    self.par1=par1\n",
        "    self.par2=par2\n",
        "\n",
        "class Emp(Human):\n",
        "\n",
        "  def __init__(self,par1,par2,par3,par4):\n",
        "    super().__init__(par1,par2)\n",
        "    print(\"Emp class constructor\")\n",
        "    self.par3=par3\n",
        "    self.par4=par4\n",
        "\n",
        "\n",
        "class Manager(Emp):\n",
        "\n",
        "  def __init__(self,par1,par2,par3,par4,par5,par6):\n",
        "    super().__init__(par1,par2,par3,par4)\n",
        "    print(\"Mnager class constructor\")\n",
        "    self.par5=par5\n",
        "    self.par6=par6\n",
        "\n",
        "m1 = Manager(1,2,3,4,5,6)\n",
        "\n",
        "print(m1.__dict__)\n",
        ""
      ],
      "metadata": {
        "colab": {
          "base_uri": "https://localhost:8080/"
        },
        "id": "vhsbrnGc0DgY",
        "outputId": "2a5fd010-ef47-4b37-8750-94adc57b43b7"
      },
      "execution_count": 3,
      "outputs": [
        {
          "output_type": "stream",
          "name": "stdout",
          "text": [
            "Human class constructor\n",
            "Emp class constructor\n",
            "Mnager class constructor\n",
            "{'par1': 1, 'par2': 2, 'par3': 3, 'par4': 4, 'par5': 5, 'par6': 6}\n"
          ]
        }
      ]
    },
    {
      "cell_type": "code",
      "source": [
        "class Vehicle:\n",
        "  def __init__(self, model, year):\n",
        "    self.model = model\n",
        "    self.year = year\n",
        "\n",
        "\n",
        "class Car(Vehicle):\n",
        "  def __init__(self, model, year, num_doors):\n",
        "    super().__init__( model, year)\n",
        "    self.num_doors = num_doors\n",
        "    self.wheels = 4\n",
        "\n",
        "class Truck(Vehicle):\n",
        "  def __init__(self, model, year, num_doors):\n",
        "    super().__init__(model, year)\n",
        "    self.num_doors = num_doors\n",
        "    self.wheels = 6\n",
        "\n",
        "\n",
        "class Honda(Car):\n",
        "  def __init__(self, model, year, num_doors):\n",
        "    super().__init__(model, year, num_doors)\n",
        "    self.brand = \"Honda\"\n",
        "    self.wheels = 4\n",
        "\n",
        "class Toyota(Truck, Car):\n",
        "  def __init__(self, model, year, num_doors):\n",
        "    super().__init__(model, year, num_doors)\n",
        "    self.brand = \"Toyota\"\n",
        "    self.wheels = 6\n",
        "\n",
        "v1 = Toyota(\"Camry\", 2022, 4)\n",
        "print(v1.__dict__)\n",
        "\n",
        "\n",
        "\n",
        "v2 = Honda(\"Civic\", 2021, 4)\n",
        "print(v2.__dict__)"
      ],
      "metadata": {
        "colab": {
          "base_uri": "https://localhost:8080/",
          "height": 356
        },
        "id": "EFcv84kqmidC",
        "outputId": "07caf305-8d0f-4f47-cfb0-3727fbefa4e8"
      },
      "execution_count": 16,
      "outputs": [
        {
          "output_type": "error",
          "ename": "TypeError",
          "evalue": "Car.__init__() missing 1 required positional argument: 'num_doors'",
          "traceback": [
            "\u001b[0;31m---------------------------------------------------------------------------\u001b[0m",
            "\u001b[0;31mTypeError\u001b[0m                                 Traceback (most recent call last)",
            "\u001b[0;32m<ipython-input-16-7b3f991fe6a7>\u001b[0m in \u001b[0;36m<cell line: 0>\u001b[0;34m()\u001b[0m\n\u001b[1;32m     30\u001b[0m     \u001b[0mself\u001b[0m\u001b[0;34m.\u001b[0m\u001b[0mwheels\u001b[0m \u001b[0;34m=\u001b[0m \u001b[0;36m6\u001b[0m\u001b[0;34m\u001b[0m\u001b[0;34m\u001b[0m\u001b[0m\n\u001b[1;32m     31\u001b[0m \u001b[0;34m\u001b[0m\u001b[0m\n\u001b[0;32m---> 32\u001b[0;31m \u001b[0mv1\u001b[0m \u001b[0;34m=\u001b[0m \u001b[0mToyota\u001b[0m\u001b[0;34m(\u001b[0m\u001b[0;34m\"Camry\"\u001b[0m\u001b[0;34m,\u001b[0m \u001b[0;36m2022\u001b[0m\u001b[0;34m,\u001b[0m \u001b[0;36m4\u001b[0m\u001b[0;34m)\u001b[0m\u001b[0;34m\u001b[0m\u001b[0;34m\u001b[0m\u001b[0m\n\u001b[0m\u001b[1;32m     33\u001b[0m \u001b[0mprint\u001b[0m\u001b[0;34m(\u001b[0m\u001b[0mv1\u001b[0m\u001b[0;34m.\u001b[0m\u001b[0m__dict__\u001b[0m\u001b[0;34m)\u001b[0m\u001b[0;34m\u001b[0m\u001b[0;34m\u001b[0m\u001b[0m\n\u001b[1;32m     34\u001b[0m \u001b[0;34m\u001b[0m\u001b[0m\n",
            "\u001b[0;32m<ipython-input-16-7b3f991fe6a7>\u001b[0m in \u001b[0;36m__init__\u001b[0;34m(self, model, year, num_doors)\u001b[0m\n\u001b[1;32m     26\u001b[0m \u001b[0;32mclass\u001b[0m \u001b[0mToyota\u001b[0m\u001b[0;34m(\u001b[0m\u001b[0mTruck\u001b[0m\u001b[0;34m,\u001b[0m \u001b[0mCar\u001b[0m\u001b[0;34m)\u001b[0m\u001b[0;34m:\u001b[0m\u001b[0;34m\u001b[0m\u001b[0;34m\u001b[0m\u001b[0m\n\u001b[1;32m     27\u001b[0m   \u001b[0;32mdef\u001b[0m \u001b[0m__init__\u001b[0m\u001b[0;34m(\u001b[0m\u001b[0mself\u001b[0m\u001b[0;34m,\u001b[0m \u001b[0mmodel\u001b[0m\u001b[0;34m,\u001b[0m \u001b[0myear\u001b[0m\u001b[0;34m,\u001b[0m \u001b[0mnum_doors\u001b[0m\u001b[0;34m)\u001b[0m\u001b[0;34m:\u001b[0m\u001b[0;34m\u001b[0m\u001b[0;34m\u001b[0m\u001b[0m\n\u001b[0;32m---> 28\u001b[0;31m     \u001b[0msuper\u001b[0m\u001b[0;34m(\u001b[0m\u001b[0;34m)\u001b[0m\u001b[0;34m.\u001b[0m\u001b[0m__init__\u001b[0m\u001b[0;34m(\u001b[0m\u001b[0mmodel\u001b[0m\u001b[0;34m,\u001b[0m \u001b[0myear\u001b[0m\u001b[0;34m,\u001b[0m \u001b[0mnum_doors\u001b[0m\u001b[0;34m)\u001b[0m\u001b[0;34m\u001b[0m\u001b[0;34m\u001b[0m\u001b[0m\n\u001b[0m\u001b[1;32m     29\u001b[0m     \u001b[0mself\u001b[0m\u001b[0;34m.\u001b[0m\u001b[0mbrand\u001b[0m \u001b[0;34m=\u001b[0m \u001b[0;34m\"Toyota\"\u001b[0m\u001b[0;34m\u001b[0m\u001b[0;34m\u001b[0m\u001b[0m\n\u001b[1;32m     30\u001b[0m     \u001b[0mself\u001b[0m\u001b[0;34m.\u001b[0m\u001b[0mwheels\u001b[0m \u001b[0;34m=\u001b[0m \u001b[0;36m6\u001b[0m\u001b[0;34m\u001b[0m\u001b[0;34m\u001b[0m\u001b[0m\n",
            "\u001b[0;32m<ipython-input-16-7b3f991fe6a7>\u001b[0m in \u001b[0;36m__init__\u001b[0;34m(self, model, year, num_doors)\u001b[0m\n\u001b[1;32m     13\u001b[0m \u001b[0;32mclass\u001b[0m \u001b[0mTruck\u001b[0m\u001b[0;34m(\u001b[0m\u001b[0mVehicle\u001b[0m\u001b[0;34m)\u001b[0m\u001b[0;34m:\u001b[0m\u001b[0;34m\u001b[0m\u001b[0;34m\u001b[0m\u001b[0m\n\u001b[1;32m     14\u001b[0m   \u001b[0;32mdef\u001b[0m \u001b[0m__init__\u001b[0m\u001b[0;34m(\u001b[0m\u001b[0mself\u001b[0m\u001b[0;34m,\u001b[0m \u001b[0mmodel\u001b[0m\u001b[0;34m,\u001b[0m \u001b[0myear\u001b[0m\u001b[0;34m,\u001b[0m \u001b[0mnum_doors\u001b[0m\u001b[0;34m)\u001b[0m\u001b[0;34m:\u001b[0m\u001b[0;34m\u001b[0m\u001b[0;34m\u001b[0m\u001b[0m\n\u001b[0;32m---> 15\u001b[0;31m     \u001b[0msuper\u001b[0m\u001b[0;34m(\u001b[0m\u001b[0;34m)\u001b[0m\u001b[0;34m.\u001b[0m\u001b[0m__init__\u001b[0m\u001b[0;34m(\u001b[0m\u001b[0mmodel\u001b[0m\u001b[0;34m,\u001b[0m \u001b[0myear\u001b[0m\u001b[0;34m)\u001b[0m\u001b[0;34m\u001b[0m\u001b[0;34m\u001b[0m\u001b[0m\n\u001b[0m\u001b[1;32m     16\u001b[0m     \u001b[0mself\u001b[0m\u001b[0;34m.\u001b[0m\u001b[0mnum_doors\u001b[0m \u001b[0;34m=\u001b[0m \u001b[0mnum_doors\u001b[0m\u001b[0;34m\u001b[0m\u001b[0;34m\u001b[0m\u001b[0m\n\u001b[1;32m     17\u001b[0m     \u001b[0mself\u001b[0m\u001b[0;34m.\u001b[0m\u001b[0mwheels\u001b[0m \u001b[0;34m=\u001b[0m \u001b[0;36m6\u001b[0m\u001b[0;34m\u001b[0m\u001b[0;34m\u001b[0m\u001b[0m\n",
            "\u001b[0;31mTypeError\u001b[0m: Car.__init__() missing 1 required positional argument: 'num_doors'"
          ]
        }
      ]
    },
    {
      "cell_type": "code",
      "source": [],
      "metadata": {
        "id": "BiWBFSkcZeq6"
      },
      "execution_count": null,
      "outputs": []
    },
    {
      "cell_type": "code",
      "source": [
        "# simple function\n",
        "\n",
        "def fun():\n",
        "  print(\"Hello world\")\n",
        "  print(\"welcome\")\n",
        "\n",
        "\n",
        "print(\"before function call\")\n",
        "fun()\n",
        "print(\"after function call\")\n"
      ],
      "metadata": {
        "id": "MBh5kn9LVoyV"
      },
      "execution_count": null,
      "outputs": []
    },
    {
      "cell_type": "code",
      "source": [
        "# program to print the square of no\n",
        "# without arguments , without return values\n",
        "def square():\n",
        "  x = int(input(\"enetr a no\"))\n",
        "  y = x**2\n",
        "  print(\"square of\",x,\"is\",y)\n",
        "\n",
        "square()"
      ],
      "metadata": {
        "id": "FAsNwlxOZCHV"
      },
      "execution_count": null,
      "outputs": []
    },
    {
      "cell_type": "code",
      "source": [
        " #with arguments , with return values\n",
        "\n",
        "def square(x):\n",
        "    #y = x**2\n",
        "    return x**2\n",
        "\n",
        "\n",
        "x = int(input(\"enetr a no\"))\n",
        "res = square(x)\n",
        "print(res)"
      ],
      "metadata": {
        "id": "oUubBp9vdJIB"
      },
      "execution_count": null,
      "outputs": []
    },
    {
      "cell_type": "code",
      "source": [
        "#with arguments , without return values\n",
        "def square(x):\n",
        "  y = x**2\n",
        "  print(\"square of\",x,\"is\",y)\n",
        "\n",
        "\n",
        "x = int(input(\"enetr a no\"))\n",
        "square(x)\n"
      ],
      "metadata": {
        "id": "_ukEx8_3d04P"
      },
      "execution_count": null,
      "outputs": []
    },
    {
      "cell_type": "code",
      "source": [
        "#without args , with return values\n",
        "\n",
        "def square():\n",
        "  x = int(input(\"enetr a no\"))\n",
        "  y = x**2\n",
        "  return y\n",
        "\n",
        "res = square()\n",
        "print(res)"
      ],
      "metadata": {
        "id": "yeQplsX5d58J"
      },
      "execution_count": null,
      "outputs": []
    },
    {
      "cell_type": "code",
      "source": [
        "# return statement\n",
        "\n",
        "\n",
        "def test(a,b,c,d):\n",
        "\n",
        "  return a,b,c,d\n",
        "\n",
        "x,y = test(10,20,30,40)[1:3]\n",
        "\n",
        "print(x,y)\n",
        "print(type(x))"
      ],
      "metadata": {
        "id": "lMgOlMr3fJNG"
      },
      "execution_count": null,
      "outputs": []
    },
    {
      "cell_type": "code",
      "source": [
        "# return\n",
        "\n",
        "def test1():\n",
        "  l1 = [10,20,30,40]\n",
        "  t1 = (60,70,80)\n",
        "  return l1,t1\n",
        "\n",
        "x = test1()\n",
        "print(x)\n",
        "print(type(x))\n",
        "\n"
      ],
      "metadata": {
        "id": "zF54_Kotg7g8"
      },
      "execution_count": null,
      "outputs": []
    },
    {
      "cell_type": "code",
      "source": [
        "def func1(a,b,c,d):\n",
        "  return a,b,c,d\n",
        "\n",
        " = func1(10,20,30,40)\n",
        "print(a,a)\n"
      ],
      "metadata": {
        "id": "RczUuvbMkRci"
      },
      "execution_count": null,
      "outputs": []
    },
    {
      "cell_type": "code",
      "source": [
        "_ = 10\n",
        "print(_)"
      ],
      "metadata": {
        "id": "0IKhUOXFmomZ"
      },
      "execution_count": null,
      "outputs": []
    },
    {
      "cell_type": "code",
      "source": [
        "#day 13\n",
        "\n",
        "# function calling another fn\n",
        "\n",
        "def test1():\n",
        "  print(\"i am insude test1\")\n",
        "  test2() # fn call\n",
        "  print(\"i am back to test1\")\n",
        "\n",
        "def test2():\n",
        "  print(\" I am in test2\")\n",
        "  print(\"going back\")\n",
        "\n",
        "test1()  # fn call\n",
        "print(\"end of program\")"
      ],
      "metadata": {
        "id": "jxiHTB7EAlg1"
      },
      "execution_count": null,
      "outputs": []
    },
    {
      "cell_type": "code",
      "source": [
        "# LOcal Variable- lifetime\n",
        "\n",
        "def test():\n",
        "  x=10\n",
        "  x=x+1\n",
        "  print(x)\n",
        "\n",
        "test()\n",
        "test()\n",
        "test()"
      ],
      "metadata": {
        "id": "5bTQdgB6BmSf"
      },
      "execution_count": null,
      "outputs": []
    },
    {
      "cell_type": "code",
      "source": [
        "# LOcal Variable- scope\n",
        "\n",
        "def test():\n",
        "  x=10\n",
        "  x=x+1\n",
        "  print(x)\n",
        "\n",
        "test()\n",
        "#print(x) error\n",
        "test()\n",
        "test()"
      ],
      "metadata": {
        "id": "60sasPL7Dt3y"
      },
      "execution_count": null,
      "outputs": []
    },
    {
      "cell_type": "code",
      "source": [
        "# global variable\n",
        "\n",
        "n =10\n",
        "\n",
        "def fun():\n",
        "  print(n)\n",
        "\n",
        "fun()\n",
        "print(n)"
      ],
      "metadata": {
        "id": "b-8LZCR9EKrZ"
      },
      "execution_count": null,
      "outputs": []
    },
    {
      "cell_type": "code",
      "source": [
        "# global variable\n",
        "\n",
        "n =10\n",
        "\n",
        "def fun():\n",
        "  n=5   # local varibale\n",
        "  print(n)\n",
        "\n",
        "fun()\n",
        "print(n)"
      ],
      "metadata": {
        "id": "PG3hS9hpEm13"
      },
      "execution_count": null,
      "outputs": []
    },
    {
      "cell_type": "code",
      "source": [
        "# global variable\n",
        "\n",
        "n =10\n",
        "\n",
        "def fun():\n",
        "  global n # global keyword\n",
        "  n=n+1\n",
        "  print(n)\n",
        "\n",
        "def test():\n",
        "  global n\n",
        "  n= n+1\n",
        "  print(n)\n",
        "\n",
        "\n",
        "fun()\n",
        "test()\n",
        "print(n)"
      ],
      "metadata": {
        "id": "RrppPndcFEFs"
      },
      "execution_count": null,
      "outputs": []
    },
    {
      "cell_type": "code",
      "source": [
        "# Function is also an object\n",
        "\n",
        "def test():\n",
        "  print(\"hello wrold\")\n",
        "\n",
        "i =10\n",
        "print(type(i))\n",
        "\n",
        "print(type(test))\n",
        "print(test)"
      ],
      "metadata": {
        "id": "Qa3z_godHgWh"
      },
      "execution_count": null,
      "outputs": []
    },
    {
      "cell_type": "code",
      "source": [
        "def multiplier_factory(factor):\n",
        "\n",
        "  def multiplier(number):\n",
        "\n",
        "    return number * factor\n",
        "\n",
        "  # Return the nested function\n",
        "  return multiplier  # returning the inner function\n",
        "\n",
        "# Create a function that multiplies by 5\n",
        "multiply_by_5 = multiplier_factory(5)\n",
        "\n",
        "# Create a function that multiplies by 10\n",
        "multiply_by_10 = multiplier_factory(10)\n",
        "\n",
        "# Use the created functions\n",
        "result1 = multiply_by_5(8)\n",
        "result2 = multiply_by_10(4)\n",
        "\n",
        "print(f\"8 multiplied by 5 is: {result1}\")  # Output: 8 multiplied by 5 is: 40\n",
        "print(f\"4 multiplied by 10 is: {result2}\") # Output: 4 multiplied by 10 is: 40"
      ],
      "metadata": {
        "id": "kbb-1cV2IZE4"
      },
      "execution_count": null,
      "outputs": []
    },
    {
      "cell_type": "code",
      "source": [
        "# alias name for a function\n",
        "\n",
        "def test1():\n",
        "  print(\"hello\")\n",
        "\n",
        "a = test1\n",
        "\n",
        "a()"
      ],
      "metadata": {
        "id": "tmnko_WPKYtp"
      },
      "execution_count": null,
      "outputs": []
    },
    {
      "cell_type": "code",
      "source": [
        "# positional args or required ars\n",
        "\n",
        "def test(name, age, city):\n",
        "  print(\"my name is \", name , \" and my age is \", age,\" and basically from\",city)\n",
        "\n",
        "\n",
        "test(\"Ram\",25,\"Delhi\",)"
      ],
      "metadata": {
        "id": "u0VyjloJLomW"
      },
      "execution_count": null,
      "outputs": []
    },
    {
      "cell_type": "code",
      "source": [
        "# keyword args\n",
        "\n",
        "def test(name, age, city):\n",
        "  print(\"my name is \", name , \" and my age is \", age,\" and basically from\",city)\n",
        "\n",
        "\n",
        "test(age =25 , name =\"Ram\",city =\"Delhi\",)"
      ],
      "metadata": {
        "id": "uDxAGxA3Mlal"
      },
      "execution_count": null,
      "outputs": []
    },
    {
      "cell_type": "code",
      "source": [
        "# keyword args and positional args\n",
        "\n",
        "def test(name, current_city,city,age):\n",
        "  print(\"my name is \", name , \" and my age is \", age,\" and basically from\",city,\"but currently i live in\",current_city)\n",
        "\n",
        "\n",
        "test(\"ram\",\"delhi\",age = 25, city=\"Blr\")\n",
        "\n",
        "# positional args ----> keyword args\n",
        "# keyword args should follow positional ars ,"
      ],
      "metadata": {
        "id": "19tyfsdxNBGM"
      },
      "execution_count": null,
      "outputs": []
    },
    {
      "cell_type": "code",
      "source": [
        "# default arguments\n",
        "\n",
        "def student(name , age , m1,m2,m3 ,college=\"UVCE\"):\n",
        "\n",
        "  print(name,age, m1,m2,m3,college)\n",
        "\n",
        "\n",
        "student(\"John\",25,90,80,70)\n",
        "student(\"Rose\",21,91,86,75,\"SSEC\")"
      ],
      "metadata": {
        "colab": {
          "base_uri": "https://localhost:8080/"
        },
        "id": "tm_31THXP_0r",
        "outputId": "acdc32c2-adc2-4ca2-ce99-1fd7afd803a8"
      },
      "execution_count": null,
      "outputs": [
        {
          "output_type": "stream",
          "name": "stdout",
          "text": [
            "John 25 90 80 70 UVCE\n",
            "Rose 21 91 86 75 SSEC\n"
          ]
        }
      ]
    },
    {
      "cell_type": "code",
      "source": [
        "# positional agrs ----> keyword args -----> Default args\n",
        "\n",
        "def student(name , age , m1,m2,m3,college=\"UVCE\"):\n",
        "\n",
        "  print(name,age, m1,m2,m3,college)\n",
        "\n",
        "\n",
        "student(\"John\",age=21,m1=25,m2=90,m3=80, college= \"SS\")\n",
        "student(\"Rose\",21,91,86,75)"
      ],
      "metadata": {
        "id": "OgsZqe7jRETj"
      },
      "execution_count": null,
      "outputs": []
    },
    {
      "cell_type": "code",
      "source": [
        "# variable length args\n",
        "def fun(*a):\n",
        "  print(a)\n",
        "  print(type(a))\n",
        "\n",
        "fun(1,2)\n",
        "fun(1,2,3)\n",
        "fun(1,2,3,4)"
      ],
      "metadata": {
        "colab": {
          "base_uri": "https://localhost:8080/"
        },
        "id": "0vlZRYWPS68V",
        "outputId": "b58ab8ee-2c7c-40e4-e2d0-8274c6891a77"
      },
      "execution_count": null,
      "outputs": [
        {
          "output_type": "stream",
          "name": "stdout",
          "text": [
            "(1, 2)\n",
            "<class 'tuple'>\n",
            "(1, 2, 3)\n",
            "<class 'tuple'>\n",
            "(1, 2, 3, 4)\n",
            "<class 'tuple'>\n"
          ]
        }
      ]
    },
    {
      "cell_type": "code",
      "source": [
        "# variable length positional args\n",
        "def sum(*a):\n",
        "\n",
        "  s = 0\n",
        "  for i in a:\n",
        "    s = s+i\n",
        "  print(s)\n",
        "\n",
        "sum(1,2)\n",
        "sum(1,2,3)\n",
        "sum(1,2,3,4)\n",
        "\n"
      ],
      "metadata": {
        "id": "Ki0px8p4TsFj"
      },
      "execution_count": null,
      "outputs": []
    },
    {
      "cell_type": "code",
      "source": [
        "# variable length keyword args\n",
        "\n",
        "def addition(**a):\n",
        "\n",
        "  s=0\n",
        "  for n in a.values():\n",
        "    s= s+n\n",
        "  print(s)\n",
        "\n",
        "addition(a=10,b=20)  # values are packed as a dict\n",
        "addition(a=22,b=33,c=44)"
      ],
      "metadata": {
        "id": "m4wk1VucUY6R"
      },
      "execution_count": null,
      "outputs": []
    },
    {
      "cell_type": "code",
      "source": [
        "# variable length positional args and variable length keyword  args\n",
        "\n",
        "def add(*num,**nums ):\n",
        "  print(sum(num))\n",
        "  print(sum(nums.values()))\n",
        "\n",
        "add(10,20,30,40, n1=100,n2=200,n3=300)"
      ],
      "metadata": {
        "colab": {
          "base_uri": "https://localhost:8080/"
        },
        "id": "QdNRp6gmTSnr",
        "outputId": "0c596f94-cfac-4fd8-8887-d21bd80ceb13"
      },
      "execution_count": null,
      "outputs": [
        {
          "output_type": "stream",
          "name": "stdout",
          "text": [
            "100\n",
            "600\n"
          ]
        }
      ]
    },
    {
      "cell_type": "code",
      "source": [
        "#variable length positional args , keyword ars, default agrs\n",
        "\n",
        "def student(name,clas,*parents_name,age,school= \"UVCE\",**marks):\n",
        "  print('Name: ',name)\n",
        "  print('class: ',clas)\n",
        "  print('Parents: ', parents_name)\n",
        "  print('Age: ',age)\n",
        "  print('Marks: ',marks)\n",
        "  print('School: ',school)\n",
        "\n",
        "student('Ravi',5,'A','B',age=12,eng=90,maths=87,science=91)\n",
        "\n"
      ],
      "metadata": {
        "colab": {
          "base_uri": "https://localhost:8080/"
        },
        "id": "LzwuTf2UXJHt",
        "outputId": "426a5e8e-0046-4b68-e904-366d4fcba30d"
      },
      "execution_count": null,
      "outputs": [
        {
          "output_type": "stream",
          "name": "stdout",
          "text": [
            "Name:  Ravi\n",
            "class:  5\n",
            "Parents:  ('A', 'B')\n",
            "Age:  12\n",
            "Marks:  {'eng': 90, 'maths': 87, 'science': 91}\n",
            "School:  UVCE\n"
          ]
        }
      ]
    },
    {
      "cell_type": "code",
      "source": [
        "#lambda function return single value\n",
        "\n",
        "var = lambda x,y,z : x+y+z\n",
        "print(var(10,20,30))"
      ],
      "metadata": {
        "colab": {
          "base_uri": "https://localhost:8080/"
        },
        "id": "3YrLWf20cDpp",
        "outputId": "d4a75c1b-91b4-42c0-fa97-ec884f7e7ed2"
      },
      "execution_count": null,
      "outputs": [
        {
          "output_type": "stream",
          "name": "stdout",
          "text": [
            "60\n"
          ]
        }
      ]
    },
    {
      "cell_type": "code",
      "source": [
        "add =lambda x,y : [x+y , x-y]\n",
        "print( type(add(2,3)))\n",
        "print( add(2,3))"
      ],
      "metadata": {
        "colab": {
          "base_uri": "https://localhost:8080/"
        },
        "id": "DunOwRPLckCd",
        "outputId": "a53213d1-2cbd-4f60-8215-eb42839c2e8a"
      },
      "execution_count": null,
      "outputs": [
        {
          "output_type": "stream",
          "name": "stdout",
          "text": [
            "<class 'list'>\n",
            "[5, -1]\n"
          ]
        }
      ]
    },
    {
      "cell_type": "code",
      "source": [
        "a= lambda: print(\"hello\")\n",
        "print(a())"
      ],
      "metadata": {
        "colab": {
          "base_uri": "https://localhost:8080/"
        },
        "id": "veynkrGIdX20",
        "outputId": "c7456845-8f91-45d3-b8ca-3f0e30b2b12b"
      },
      "execution_count": null,
      "outputs": [
        {
          "output_type": "stream",
          "name": "stdout",
          "text": [
            "hello\n",
            "None\n"
          ]
        }
      ]
    },
    {
      "cell_type": "code",
      "source": [
        "# using default agrs\n",
        "add = lambda x, y=1 : x+y\n",
        "\n",
        "print(add(4))"
      ],
      "metadata": {
        "colab": {
          "base_uri": "https://localhost:8080/"
        },
        "id": "0vX0NVo0dv_l",
        "outputId": "205fa762-1585-4cf5-cd0a-862be17eb18a"
      },
      "execution_count": null,
      "outputs": [
        {
          "output_type": "stream",
          "name": "stdout",
          "text": [
            "5\n"
          ]
        }
      ]
    },
    {
      "cell_type": "code",
      "source": [
        "# using key word args\n",
        "add = lambda x, y : x+y\n",
        "print(add(x=5,y=6))"
      ],
      "metadata": {
        "colab": {
          "base_uri": "https://localhost:8080/"
        },
        "id": "4p5DYCQPd-iZ",
        "outputId": "12ccfe2d-b6ec-44c2-b53f-6f35d87fa809"
      },
      "execution_count": null,
      "outputs": [
        {
          "output_type": "stream",
          "name": "stdout",
          "text": [
            "11\n"
          ]
        }
      ]
    },
    {
      "cell_type": "code",
      "source": [
        "# using var lenghth args\n",
        "add = lambda *x: sum(x)\n",
        "print(add(1,2,3,4,5))"
      ],
      "metadata": {
        "colab": {
          "base_uri": "https://localhost:8080/"
        },
        "id": "oqzaV6YbeL-S",
        "outputId": "db143947-f4fc-42e0-8043-474ba0503272"
      },
      "execution_count": null,
      "outputs": [
        {
          "output_type": "stream",
          "name": "stdout",
          "text": [
            "15\n"
          ]
        }
      ]
    },
    {
      "cell_type": "code",
      "source": [
        "area = lambda r: 3.14*r*r\n",
        "print(area(5))\n"
      ],
      "metadata": {
        "colab": {
          "base_uri": "https://localhost:8080/"
        },
        "id": "TGfdGyy_esfA",
        "outputId": "8443d7b1-effa-4258-faf4-d334f2a2dd2e"
      },
      "execution_count": null,
      "outputs": [
        {
          "output_type": "stream",
          "name": "stdout",
          "text": [
            "78.5\n"
          ]
        }
      ]
    },
    {
      "cell_type": "code",
      "source": [
        "# class and Objects\n",
        "\n",
        "class Calculator:\n",
        "\n",
        "\n",
        "  def __init__(self):  # methods\n",
        "    self.n1=2\n",
        "    self.n2=2\n",
        "    self.res=0\n",
        "\n",
        "  def add(self):\n",
        "    print((self.n1+self.n2))\n",
        "\n",
        "  def sub(self , n1,n2):\n",
        "    print((n1-n2))\n",
        "\n",
        "  def mul(self , n1,n2):\n",
        "    print((n1*n2))\n",
        "\n",
        "  def div(self , n1,n2):\n",
        "    print((n1/n2))\n",
        "\n",
        "\n",
        "\n",
        "ob1 = Calculator() # obj1 creation\n",
        "ob1.add()\n",
        "ob1.sub(10,20)\n",
        "ob1.mul(10,20)\n",
        "ob1.div(10,20)\n",
        "ob2 = Calculator() # obj2 creation\n",
        "ob2.add()\n",
        "print(\"aaaaa \",ob2.n1)"
      ],
      "metadata": {
        "id": "12ag4DICkyha",
        "colab": {
          "base_uri": "https://localhost:8080/"
        },
        "outputId": "a012b7f8-7a6f-45ba-a0c5-227d41f6e5db"
      },
      "execution_count": null,
      "outputs": [
        {
          "output_type": "stream",
          "name": "stdout",
          "text": [
            "4\n",
            "-10\n",
            "200\n",
            "0.5\n",
            "4\n",
            "aaaaa  2\n"
          ]
        }
      ]
    },
    {
      "cell_type": "code",
      "source": [
        "class StudentData:\n",
        "\n",
        "  def __init__(self):\n",
        "    self.name = \"name\"\n",
        "    self.age = 0\n",
        "    self.m1 = 0\n",
        "    self.m2 = 0\n",
        "    self.m3 = 0\n",
        "    self.avg = 0\n",
        "\n",
        "  def displayOutput(self):\n",
        "    print(\"Name : \",self.name)\n",
        "    print(\"Age : \",self.age)\n",
        "    print(\"Marks 1 : \",self.m1)\n",
        "    print(\"Marks 2 : \",self.m2)\n",
        "    print(\"Marks 3 : \",self.m3)\n",
        "    print(\"Average : \",self.avg)\n",
        "\n",
        "  def getData(self):\n",
        "    self.name = input(\"Enter name : \")\n",
        "    self.age = input(\"Enter age : \")\n",
        "    self.m1 = int(input(\"Enter marks 1 : \"))\n",
        "    self.m2 = int(input(\"Enter marks 2 : \"))\n",
        "    self.m3 = int(input(\"Enter marks 3 : \"))\n",
        "\n",
        "  def calculateAvg(self):\n",
        "    self.avg = int((self.m1+self.m2+self.m3)/3)\n",
        "    return self.avg\n",
        "\n",
        "  def compareMarks(self,other):\n",
        "    if self.avg > other.avg:\n",
        "      print(self.name,\" is greater\")\n",
        "    else:\n",
        "      print(other.name,\" is greater\")\n",
        "\n",
        "stud1 = StudentData()\n",
        "stud1.getData()\n",
        "stud1.calculateAvg()\n",
        "stud1.displayOutput()\n",
        "stud2 = StudentData()\n",
        "stud2.getData()\n",
        "stud2.calculateAvg()\n",
        "stud2.displayOutput()\n",
        "stud1.compareMarks(stud2)"
      ],
      "metadata": {
        "colab": {
          "base_uri": "https://localhost:8080/"
        },
        "id": "ERxZHbfilwDS",
        "outputId": "a8d0d7c2-6ccf-43b2-f084-f3f77c4986af"
      },
      "execution_count": null,
      "outputs": [
        {
          "output_type": "stream",
          "name": "stdout",
          "text": [
            "Enter name : aaa\n",
            "Enter age : 23\n",
            "Enter marks 1 : 88\n",
            "Enter marks 2 : 77\n",
            "Enter marks 3 : 99\n",
            "Name :  aaa\n",
            "Age :  23\n",
            "Marks 1 :  88\n",
            "Marks 2 :  77\n",
            "Marks 3 :  99\n",
            "Average :  88\n",
            "Enter name : bbb\n",
            "Enter age : 22\n",
            "Enter marks 1 : 98\n",
            "Enter marks 2 : 88\n",
            "Enter marks 3 : 70\n",
            "Name :  bbb\n",
            "Age :  22\n",
            "Marks 1 :  98\n",
            "Marks 2 :  88\n",
            "Marks 3 :  70\n",
            "Average :  85\n",
            "aaa  is greater\n"
          ]
        }
      ]
    },
    {
      "cell_type": "code",
      "source": [
        "class Employee:\n",
        "  def __init__(self,name,id,salary):\n",
        "    self.name = name\n",
        "    self.id = id\n",
        "    self.salary = salary\n",
        "    self.bonus = 20\n",
        "    self.final_salary = 0\n",
        "\n",
        "  def display(self):\n",
        "    print(\"Name : \",self.name)\n",
        "    print(\"Id : \",self.id)\n",
        "    print(\"Salary : \",self.salary)\n",
        "    print(\"bonus : \",self.bonus)\n",
        "    print(\"final salary :\",self.final_salary)\n",
        "\n",
        "  def calc_final_salary(self):\n",
        "    self.final_salary = self.salary + (self.bonus/100)*self.salary\n",
        "    return self.final_salary\n",
        "\n",
        "e1 = Employee(\"AAA\",1,10000)\n",
        "e1.calc_final_salary()\n",
        "e1.display()\n",
        "e2 = Employee(\"BBB\",2,10500)\n",
        "e2.calc_final_salary()\n",
        "e2.display()\n"
      ],
      "metadata": {
        "colab": {
          "base_uri": "https://localhost:8080/"
        },
        "id": "AqUe1MN_Dm8p",
        "outputId": "980747a6-7609-48a3-dace-0faf93b1bce0"
      },
      "execution_count": null,
      "outputs": [
        {
          "output_type": "stream",
          "name": "stdout",
          "text": [
            "Name :  AAA\n",
            "Id :  1\n",
            "Salary :  10000\n",
            "bonus :  20\n",
            "final salary : 12000.0\n",
            "Name :  BBB\n",
            "Id :  2\n",
            "Salary :  10500\n",
            "bonus :  20\n",
            "final salary : 12600.0\n"
          ]
        }
      ]
    }
  ]
}