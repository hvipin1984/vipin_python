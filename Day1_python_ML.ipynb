{
  "cells": [
    {
      "cell_type": "markdown",
      "metadata": {
        "id": "G0YQxS0AhC8P"
      },
      "source": [
        "# Research Notebook\n",
        "## your name here\n",
        "## Date:"
      ]
    },
    {
      "cell_type": "code",
      "source": [
        "print(\"hello\")"
      ],
      "metadata": {
        "id": "E5TFU7HthGZd",
        "outputId": "5c07c9e4-c25e-4ae7-c3e9-a1677f551cd6",
        "colab": {
          "base_uri": "https://localhost:8080/"
        }
      },
      "execution_count": 1,
      "outputs": [
        {
          "output_type": "stream",
          "name": "stdout",
          "text": [
            "hello\n"
          ]
        }
      ]
    },
    {
      "cell_type": "code",
      "source": [],
      "metadata": {
        "id": "XQm7L4XmhcCW"
      },
      "execution_count": null,
      "outputs": []
    },
    {
      "cell_type": "code",
      "source": [],
      "metadata": {
        "id": "0du_ouw6hbh0"
      },
      "execution_count": null,
      "outputs": []
    },
    {
      "cell_type": "markdown",
      "metadata": {
        "id": "7LzWxvP-hC8S"
      },
      "source": [
        "# 2: What? (What happened?)\n",
        "## Describe what happened during your activities for the week.\n",
        "\n",
        "Your text here"
      ]
    },
    {
      "cell_type": "markdown",
      "source": [],
      "metadata": {
        "id": "v-6omTAMhUYI"
      }
    },
    {
      "cell_type": "markdown",
      "metadata": {
        "id": "vgwxY719hC8T"
      },
      "source": [
        "# 3: So what? (What does it mean?)\n",
        "## Describe your results\n",
        "\n",
        "Your text here"
      ]
    },
    {
      "cell_type": "markdown",
      "metadata": {
        "id": "5CFZDBHHhC8U"
      },
      "source": [
        "# 4. Now what? (What's next?)\n",
        "## Plan for the next week\n",
        "\n",
        "Your text here"
      ]
    },
    {
      "cell_type": "markdown",
      "metadata": {
        "id": "pRRTkwfmhC8U"
      },
      "source": [
        "# 5. Bibliography\n",
        "\n",
        "Your references here"
      ]
    },
    {
      "cell_type": "code",
      "execution_count": null,
      "metadata": {
        "id": "VVcHXEq8hC8V"
      },
      "outputs": [],
      "source": []
    }
  ],
  "metadata": {
    "kernelspec": {
      "display_name": "Python 3",
      "language": "python",
      "name": "python3"
    },
    "language_info": {
      "codemirror_mode": {
        "name": "ipython",
        "version": 3
      },
      "file_extension": ".py",
      "mimetype": "text/x-python",
      "name": "python",
      "nbconvert_exporter": "python",
      "pygments_lexer": "ipython3",
      "version": "3.7.6"
    },
    "colab": {
      "provenance": []
    }
  },
  "nbformat": 4,
  "nbformat_minor": 0
}