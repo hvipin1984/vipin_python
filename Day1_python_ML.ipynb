{
  "cells": [
    {
      "cell_type": "code",
      "source": [
        "print(\"hello\")"
      ],
      "metadata": {
        "colab": {
          "base_uri": "https://localhost:8080/"
        },
        "id": "E5TFU7HthGZd",
        "outputId": "5c07c9e4-c25e-4ae7-c3e9-a1677f551cd6"
      },
      "execution_count": null,
      "outputs": [
        {
          "output_type": "stream",
          "name": "stdout",
          "text": [
            "hello\n"
          ]
        }
      ]
    },
    {
      "cell_type": "code",
      "source": [
        "x=10\n",
        "def incre():\n",
        "  global x\n",
        "  x=x+1\n",
        "  print(x)\n",
        "incre()\n",
        "incre()"
      ],
      "metadata": {
        "id": "rS5WRdQ4EVbY",
        "outputId": "2e1a787a-d4b2-4a3c-ce93-6e4e101bc80d",
        "colab": {
          "base_uri": "https://localhost:8080/"
        }
      },
      "execution_count": 4,
      "outputs": [
        {
          "output_type": "stream",
          "name": "stdout",
          "text": [
            "11\n",
            "12\n"
          ]
        }
      ]
    },
    {
      "cell_type": "code",
      "source": [
        "def multiplier_factory(factor):\n",
        "\n",
        "  def multiplier(number):\n",
        "\n",
        "    return number * factor\n",
        "\n",
        "  # Return the nested function\n",
        "  return multiplier  # returning the inner function\n",
        "\n",
        "# Create a function that multiplies by 5\n",
        "multiply_by_5 = multiplier_factory(5)\n",
        "\n",
        "# Create a function that multiplies by 10\n",
        "multiply_by_10 = multiplier_factory(10)\n",
        "\n",
        "# Use the created functions\n",
        "result1 = multiply_by_5(8)\n",
        "result2 = multiply_by_10(4)\n",
        "\n",
        "print (type(multiplier_factory))\n",
        "print (type(multiply_by_5))\n",
        "print(f\"8 multiplied by 5 is: {result1}\")  # Output: 8 multiplied by 5 is: 40\n",
        "print(f\"4 multiplied by 10 is: {result2}\") # Output: 4 multiplied by 10 is: 40\n",
        ""
      ],
      "metadata": {
        "id": "K1Sz4vM9KY3X",
        "outputId": "cec49453-d7e4-4c35-cb60-b3eb0507edf7",
        "colab": {
          "base_uri": "https://localhost:8080/"
        }
      },
      "execution_count": 5,
      "outputs": [
        {
          "output_type": "stream",
          "name": "stdout",
          "text": [
            "<class 'function'>\n",
            "<class 'function'>\n",
            "8 multiplied by 5 is: 40\n",
            "4 multiplied by 10 is: 40\n"
          ]
        }
      ]
    },
    {
      "cell_type": "code",
      "source": [
        "def addmul(*a):\n",
        "  sum = 0\n",
        "  for i in a:\n",
        "    sum = sum+i\n",
        "  return sum\n",
        "sum = addmul(10,12,14)\n",
        "print(sum)\n"
      ],
      "metadata": {
        "id": "0zPWurOQTCXb",
        "outputId": "fa5007fd-89e1-4a18-dc8f-fda7cacee0cb",
        "colab": {
          "base_uri": "https://localhost:8080/"
        }
      },
      "execution_count": 8,
      "outputs": [
        {
          "output_type": "stream",
          "name": "stdout",
          "text": [
            "36\n"
          ]
        }
      ]
    },
    {
      "cell_type": "code",
      "source": [
        "l= [12,12.3,\"abc\"]\n",
        "al = [\"list\",l]\n",
        "\n",
        "l.remove(12.3)\n",
        "print (al)"
      ],
      "metadata": {
        "colab": {
          "base_uri": "https://localhost:8080/"
        },
        "id": "hRAU0U-Op5lg",
        "outputId": "a4c9afac-4340-43c5-8bab-b8bdd731d45b"
      },
      "execution_count": null,
      "outputs": [
        {
          "output_type": "stream",
          "name": "stdout",
          "text": [
            "['list', [12, 'abc']]\n"
          ]
        }
      ]
    },
    {
      "cell_type": "code",
      "source": [
        "aaa = lambda x,y:x+y\n",
        "print (type(aaa(10,20)))\n",
        "print (aaa(10,20))"
      ],
      "metadata": {
        "id": "A2Kw5gNbcS_E",
        "outputId": "cb70749f-2519-4b4b-a6ce-76b8748b5ff9",
        "colab": {
          "base_uri": "https://localhost:8080/"
        }
      },
      "execution_count": 16,
      "outputs": [
        {
          "output_type": "stream",
          "name": "stdout",
          "text": [
            "<class 'int'>\n",
            "30\n"
          ]
        }
      ]
    },
    {
      "cell_type": "code",
      "source": [
        "area = lambda r : 3.14*r*r\n",
        "print (area(r=10))"
      ],
      "metadata": {
        "id": "qhO7igJBedBC",
        "outputId": "ee6c0b2b-e54e-443f-916f-1b5510fa8b3c",
        "colab": {
          "base_uri": "https://localhost:8080/"
        }
      },
      "execution_count": 18,
      "outputs": [
        {
          "output_type": "stream",
          "name": "stdout",
          "text": [
            "314.0\n"
          ]
        }
      ]
    },
    {
      "cell_type": "code",
      "source": [
        "s = int(input (\"Enter a string\"))\n",
        "i = 1\n",
        "while (i<11):\n",
        "  print(s,\"*\",i,\"=\",s*i)\n",
        "  i=i+1\n"
      ],
      "metadata": {
        "colab": {
          "base_uri": "https://localhost:8080/"
        },
        "id": "yXBQOrRA07FT",
        "outputId": "65697a8f-eeb6-430a-a0e3-66f194417510"
      },
      "execution_count": null,
      "outputs": [
        {
          "output_type": "stream",
          "name": "stdout",
          "text": [
            "Enter a string6\n",
            "6 * 1 = 6\n",
            "6 * 2 = 12\n",
            "6 * 3 = 18\n",
            "6 * 4 = 24\n",
            "6 * 5 = 30\n",
            "6 * 6 = 36\n",
            "6 * 7 = 42\n",
            "6 * 8 = 48\n",
            "6 * 9 = 54\n",
            "6 * 10 = 60\n"
          ]
        }
      ]
    },
    {
      "cell_type": "code",
      "source": [
        "fs = \"bangalore\"\n",
        "for i in fs[::2]:\n",
        "  print(i,s)\n",
        "\n"
      ],
      "metadata": {
        "colab": {
          "base_uri": "https://localhost:8080/"
        },
        "id": "mZMThscHC6AW",
        "outputId": "f40881d6-eb45-4bcd-d7af-7080b49038c9"
      },
      "execution_count": null,
      "outputs": [
        {
          "output_type": "stream",
          "name": "stdout",
          "text": [
            "b 6\n",
            "n 6\n",
            "a 6\n",
            "o 6\n",
            "e 6\n"
          ]
        }
      ]
    },
    {
      "cell_type": "code",
      "source": [
        "s1= \"I live in Mumbai, Mumbai is a beutiful place\"\n",
        "c = s1.split(\" \")\n",
        "print(tuple(c))\n",
        "print(type(tuple(c)))"
      ],
      "metadata": {
        "colab": {
          "base_uri": "https://localhost:8080/"
        },
        "id": "lQTSrVQ3THrA",
        "outputId": "ded7e821-89df-46bd-b534-1903a9e5666f"
      },
      "execution_count": null,
      "outputs": [
        {
          "output_type": "stream",
          "name": "stdout",
          "text": [
            "('I', 'live', 'in', 'Mumbai,', 'Mumbai', 'is', 'a', 'beutiful', 'place')\n",
            "<class 'tuple'>\n"
          ]
        }
      ]
    },
    {
      "cell_type": "code",
      "source": [
        "l1 = [10,20,30]\n",
        "i = 0\n",
        "while i <5 :\n",
        "  a = input (\"Enter\")\n",
        "  l1.append(a)\n",
        "  i = i+1\n",
        "print (l1)3"
      ],
      "metadata": {
        "colab": {
          "base_uri": "https://localhost:8080/"
        },
        "id": "V92jXNS9aoJf",
        "outputId": "5ab6f7ce-a72c-44f6-d00b-f3d92aee5c51"
      },
      "execution_count": null,
      "outputs": [
        {
          "output_type": "stream",
          "name": "stdout",
          "text": [
            "Enter1\n",
            "Enter33\n",
            "Enter55\n",
            "Enter3\n",
            "Enter22\n",
            "[10, 20, 30, '1', '33', '55', '3', '22']\n"
          ]
        }
      ]
    },
    {
      "cell_type": "code",
      "source": [
        "l2 = [10,20,10,30,20,40,10,40]\n",
        "se = set(l2)\n",
        "l2 = list(se).sort\n",
        "print (\"set\",se)\n",
        "print (\"set\",se)\n",
        "l3 = []\n",
        "count = []\n",
        "for i in l2:\n",
        "  if i not in l3:\n",
        "    l3.append(i)\n",
        "    count.append(1)\n",
        "  else:\n",
        "    ind = l3.index(i)\n",
        "    count[ind]=count[ind]+1\n",
        "\n",
        "print (l3)\n",
        "print (count)\n"
      ],
      "metadata": {
        "colab": {
          "base_uri": "https://localhost:8080/"
        },
        "id": "R-RN0BVif8CN",
        "outputId": "cfdce98c-7980-42be-aea2-cd173280a36c"
      },
      "execution_count": null,
      "outputs": [
        {
          "output_type": "stream",
          "name": "stdout",
          "text": [
            "set {40, 10, 20, 30}\n",
            "[10, 20, 30, 40]\n",
            "[3, 2, 1, 2]\n"
          ]
        }
      ]
    },
    {
      "cell_type": "code",
      "source": [
        "l2 = [10,20,10,30,20,40,10,40]\n",
        "print (\"list1\",l2)\n",
        "se = set(l2)\n",
        "l2 = list(se)\n",
        "\n",
        "print (\"set\",se)\n",
        "print (\"list2\",l2)"
      ],
      "metadata": {
        "colab": {
          "base_uri": "https://localhost:8080/"
        },
        "id": "v2kTbgmCXLaD",
        "outputId": "c758a73b-d888-45e5-ea94-c8696e4c154d"
      },
      "execution_count": null,
      "outputs": [
        {
          "output_type": "stream",
          "name": "stdout",
          "text": [
            "list1 [10, 20, 10, 30, 20, 40, 10, 40]\n",
            "set {40, 10, 20, 30}\n",
            "list2 [40, 10, 20, 30]\n"
          ]
        }
      ]
    },
    {
      "cell_type": "code",
      "source": [
        "s3= set([1])\n",
        "print (s3)"
      ],
      "metadata": {
        "colab": {
          "base_uri": "https://localhost:8080/"
        },
        "id": "ES6bxpQpYPcu",
        "outputId": "df12515f-c078-486e-c9a0-105302e34aa5"
      },
      "execution_count": null,
      "outputs": [
        {
          "output_type": "stream",
          "name": "stdout",
          "text": [
            "{1}\n"
          ]
        }
      ]
    },
    {
      "cell_type": "code",
      "source": [
        "def f1(a):\n",
        "  print(\"number is\",a)\n",
        "  return 8\n",
        "a = f1(input(\"Enter\"))\n",
        "print(a)"
      ],
      "metadata": {
        "id": "2KbOaZNAP5uS",
        "outputId": "813ad1e2-569c-4848-ff76-780a8f423306",
        "colab": {
          "base_uri": "https://localhost:8080/"
        }
      },
      "execution_count": null,
      "outputs": [
        {
          "output_type": "stream",
          "name": "stdout",
          "text": [
            "Enter6\n",
            "number is 6\n",
            "8\n"
          ]
        }
      ]
    },
    {
      "cell_type": "code",
      "execution_count": null,
      "metadata": {
        "id": "VVcHXEq8hC8V",
        "colab": {
          "base_uri": "https://localhost:8080/"
        },
        "outputId": "037a6495-ec42-402f-f12a-f76eb890f3e8"
      },
      "outputs": [
        {
          "output_type": "stream",
          "name": "stdout",
          "text": [
            "['I', 'aa', 'dd', 'aa', 'ff', 'tt', 'ss', 'aa', 'dd']\n",
            "{'I': 1, 'aa': 3, 'dd': 2, 'ff': 1, 'tt': 1, 'ss': 1}\n"
          ]
        }
      ],
      "source": [
        "st = \" I aa dd aa ff tt ss aa dd \"\n",
        "ls = st.strip().split()\n",
        "print (ls)\n",
        "d = {}\n",
        "for i in ls:\n",
        "  d.update({i:ls.count(i)})\n",
        "print (d)"
      ]
    }
  ],
  "metadata": {
    "kernelspec": {
      "display_name": "Python 3",
      "language": "python",
      "name": "python3"
    },
    "language_info": {
      "codemirror_mode": {
        "name": "ipython",
        "version": 3
      },
      "file_extension": ".py",
      "mimetype": "text/x-python",
      "name": "python",
      "nbconvert_exporter": "python",
      "pygments_lexer": "ipython3",
      "version": "3.7.6"
    },
    "colab": {
      "provenance": []
    }
  },
  "nbformat": 4,
  "nbformat_minor": 0
}